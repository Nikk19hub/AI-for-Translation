{
  "nbformat": 4,
  "nbformat_minor": 0,
  "metadata": {
    "colab": {
      "provenance": [],
      "toc_visible": true
    },
    "kernelspec": {
      "name": "python3",
      "display_name": "Python 3"
    },
    "language_info": {
      "name": "python"
    }
  },
  "cells": [
    {
      "cell_type": "markdown",
      "source": [
        "# **DeepL Model Translation Accuracy**\n",
        "\n",
        "<style type=\"text/css\">\n",
        ".tg  {border-collapse:collapse;border-spacing:0;}\n",
        ".tg td{border-color:black;border-style:solid;border-width:1px;font-family:Arial, sans-serif;font-size:14px;\n",
        "  overflow:hidden;padding:10px 5px;word-break:normal;}\n",
        ".tg th{border-color:black;border-style:solid;border-width:1px;font-family:Arial, sans-serif;font-size:14px;\n",
        "  font-weight:normal;overflow:hidden;padding:10px 5px;word-break:normal;}\n",
        ".tg .tg-0pky{border-color:inherit;text-align:left;vertical-align:top}\n",
        "</style>\n",
        "<table class=\"tg\">\n",
        "<thead>\n",
        "  <tr>\n",
        "    <th class=\"tg-0pky\">Score </th>\n",
        "    <th class=\"tg-0pky\">DeepL Model</th>\n",
        "  </tr>\n",
        "</thead>\n",
        "<tbody>\n",
        "  <tr>\n",
        "    <td class=\"tg-0pky\" rowspan=\"3\">Meteor Score<br><br></td>\n",
        "    <td class=\"tg-0pky\">0.4189<br>(3-line input)</td>\n",
        "  </tr>\n",
        "  <tr>\n",
        "    <td class=\"tg-0pky\">0.4045<br>(10-15 line input)</td>\n",
        "  </tr>\n",
        "  <tr>\n",
        "    <td class=\"tg-0pky\">0.4320<br>(One whole page input)</td>\n",
        "  </tr>\n",
        "  <tr>\n",
        "    <td class=\"tg-0pky\" rowspan=\"3\">Word Error Rate<br></td>\n",
        "    <td class=\"tg-0pky\">88.46%<br>(3- line input)</td>\n",
        "  </tr>\n",
        "  <tr>\n",
        "    <td class=\"tg-0pky\">126.36%<br>(10-15 lines input)</td>\n",
        "  </tr>\n",
        "  <tr>\n",
        "    <td class=\"tg-0pky\">141.07%<br>(One whole page Input)</td>\n",
        "  </tr>\n",
        "  <tr>\n",
        "    <td class=\"tg-0pky\" rowspan=\"3\">Char F-Score</td>\n",
        "    <td class=\"tg-0pky\">0.9679<br>(3- line input)</td>\n",
        "  </tr>\n",
        "  <tr>\n",
        "    <td class=\"tg-0pky\">0.9987(10-15 lines input)</td>\n",
        "  </tr>\n",
        "  <tr>\n",
        "    <td class=\"tg-0pky\">0.9982<br>(one whole page input)</td>\n",
        "  </tr>\n",
        "</tbody>\n",
        "</table>"
      ],
      "metadata": {
        "id": "3CM66JDIls4D"
      }
    },
    {
      "cell_type": "markdown",
      "source": [
        "**METEOR** **SCORE**"
      ],
      "metadata": {
        "id": "VfRcS2Bm9l9A"
      }
    },
    {
      "cell_type": "code",
      "source": [
        "import nltk\n",
        "from nltk.translate.meteor_score import meteor_score\n",
        "\n",
        "# Download required resources for NLTK\n",
        "nltk.download('wordnet')\n",
        "nltk.download('punkt')\n",
        "\n",
        "def calculate_meteor_score(reference, translation):\n",
        "    return meteor_score([reference], translation)\n",
        "\n",
        "def main():\n",
        "    reference = input(\"Enter the reference sentence: \")\n",
        "    translation = input(\"Enter the translated sentence: \")\n",
        "\n",
        "    score = calculate_meteor_score(reference, translation)\n",
        "    print(\"METEOR Score:\", score)\n",
        "\n",
        "if __name__ == \"__main__\":\n",
        "    main()\n"
      ],
      "metadata": {
        "colab": {
          "base_uri": "https://localhost:8080/",
          "height": 550
        },
        "id": "bYVrp-_50e0a",
        "outputId": "929d9902-6e6c-4492-d017-d69df06eb0d8"
      },
      "execution_count": null,
      "outputs": [
        {
          "output_type": "stream",
          "name": "stderr",
          "text": [
            "[nltk_data] Downloading package wordnet to /root/nltk_data...\n",
            "[nltk_data]   Package wordnet is already up-to-date!\n",
            "[nltk_data] Downloading package punkt to /root/nltk_data...\n",
            "[nltk_data]   Package punkt is already up-to-date!\n"
          ]
        },
        {
          "name": "stdout",
          "output_type": "stream",
          "text": [
            "Enter the reference sentence: • Immer die richtige Sicherheitsausrüstung verwenden (z. B. Schutzbrille, Handschuhe und Sicherheitsschuhe). • Wartungs- und Reparaturarbeiten dürfen nur mit den korrekten Werkzeugen durchgeführt werden. • Verwenden Sie ausschließlich Originalersatzteile für Wartungs- oder Reparaturarbeiten. Der Hersteller lehnt jegliche Haftung für Schäden oder Verletzungen durch die Verwendung von nicht originalen Ersatzteilen ab. • Sämtliche Wartungsarbeiten sind nach dem Abkühlen der Maschine durchzuführen. • Ein entsprechendes Warnschild, z. B. mit der Aufschrift \"Laufende Arbeiten; Maschine nicht starten\" ist an der Starteinrichtung anzubringen.\n",
            "Enter the translated sentence: Verwenden Sie immer die richtige Sicherheitsausrüstung zum Beispiel, Sicherheitsbrille, Handschuhe und Sicherheitsschuhe. Verwenden Sie nur die richtigen Werkzeuge für Wartungs- und Reparaturarbeiten.  Verwenden Sie nur echte Ersatzteile für die Wartung oder Reparatur.  Der Hersteller wird alle Schäden oder Verletzungen, die durch den Einsatz von nicht-echten Ersatzteilen.  Alle Wartungsarbeiten erfolgen, wenn die Maschine abgekühlt ist.  Ein Warnschild mit einer Legende wie Arbeit in Arbeit beginnen nicht an der Startausrüstung angebracht werden.\n"
          ]
        },
        {
          "output_type": "error",
          "ename": "TypeError",
          "evalue": "\"hypothesis\" expects pre-tokenized hypothesis (Iterable[str]): Verwenden Sie immer die richtige Sicherheitsausrüstung zum Beispiel, Sicherheitsbrille, Handschuhe und Sicherheitsschuhe. Verwenden Sie nur die richtigen Werkzeuge für Wartungs- und Reparaturarbeiten.  Verwenden Sie nur echte Ersatzteile für die Wartung oder Reparatur.  Der Hersteller wird alle Schäden oder Verletzungen, die durch den Einsatz von nicht-echten Ersatzteilen.  Alle Wartungsarbeiten erfolgen, wenn die Maschine abgekühlt ist.  Ein Warnschild mit einer Legende wie Arbeit in Arbeit beginnen nicht an der Startausrüstung angebracht werden.",
          "traceback": [
            "\u001b[0;31m---------------------------------------------------------------------------\u001b[0m",
            "\u001b[0;31mTypeError\u001b[0m                                 Traceback (most recent call last)",
            "\u001b[0;32m<ipython-input-4-9d2af645ee56>\u001b[0m in \u001b[0;36m<cell line: 18>\u001b[0;34m()\u001b[0m\n\u001b[1;32m     17\u001b[0m \u001b[0;34m\u001b[0m\u001b[0m\n\u001b[1;32m     18\u001b[0m \u001b[0;32mif\u001b[0m \u001b[0m__name__\u001b[0m \u001b[0;34m==\u001b[0m \u001b[0;34m\"__main__\"\u001b[0m\u001b[0;34m:\u001b[0m\u001b[0;34m\u001b[0m\u001b[0;34m\u001b[0m\u001b[0m\n\u001b[0;32m---> 19\u001b[0;31m     \u001b[0mmain\u001b[0m\u001b[0;34m(\u001b[0m\u001b[0;34m)\u001b[0m\u001b[0;34m\u001b[0m\u001b[0;34m\u001b[0m\u001b[0m\n\u001b[0m",
            "\u001b[0;32m<ipython-input-4-9d2af645ee56>\u001b[0m in \u001b[0;36mmain\u001b[0;34m()\u001b[0m\n\u001b[1;32m     13\u001b[0m     \u001b[0mtranslation\u001b[0m \u001b[0;34m=\u001b[0m \u001b[0minput\u001b[0m\u001b[0;34m(\u001b[0m\u001b[0;34m\"Enter the translated sentence: \"\u001b[0m\u001b[0;34m)\u001b[0m\u001b[0;34m\u001b[0m\u001b[0;34m\u001b[0m\u001b[0m\n\u001b[1;32m     14\u001b[0m \u001b[0;34m\u001b[0m\u001b[0m\n\u001b[0;32m---> 15\u001b[0;31m     \u001b[0mscore\u001b[0m \u001b[0;34m=\u001b[0m \u001b[0mcalculate_meteor_score\u001b[0m\u001b[0;34m(\u001b[0m\u001b[0mreference\u001b[0m\u001b[0;34m,\u001b[0m \u001b[0mtranslation\u001b[0m\u001b[0;34m)\u001b[0m\u001b[0;34m\u001b[0m\u001b[0;34m\u001b[0m\u001b[0m\n\u001b[0m\u001b[1;32m     16\u001b[0m     \u001b[0mprint\u001b[0m\u001b[0;34m(\u001b[0m\u001b[0;34m\"METEOR Score:\"\u001b[0m\u001b[0;34m,\u001b[0m \u001b[0mscore\u001b[0m\u001b[0;34m)\u001b[0m\u001b[0;34m\u001b[0m\u001b[0;34m\u001b[0m\u001b[0m\n\u001b[1;32m     17\u001b[0m \u001b[0;34m\u001b[0m\u001b[0m\n",
            "\u001b[0;32m<ipython-input-4-9d2af645ee56>\u001b[0m in \u001b[0;36mcalculate_meteor_score\u001b[0;34m(reference, translation)\u001b[0m\n\u001b[1;32m      7\u001b[0m \u001b[0;34m\u001b[0m\u001b[0m\n\u001b[1;32m      8\u001b[0m \u001b[0;32mdef\u001b[0m \u001b[0mcalculate_meteor_score\u001b[0m\u001b[0;34m(\u001b[0m\u001b[0mreference\u001b[0m\u001b[0;34m,\u001b[0m \u001b[0mtranslation\u001b[0m\u001b[0;34m)\u001b[0m\u001b[0;34m:\u001b[0m\u001b[0;34m\u001b[0m\u001b[0;34m\u001b[0m\u001b[0m\n\u001b[0;32m----> 9\u001b[0;31m     \u001b[0;32mreturn\u001b[0m \u001b[0mmeteor_score\u001b[0m\u001b[0;34m(\u001b[0m\u001b[0;34m[\u001b[0m\u001b[0mreference\u001b[0m\u001b[0;34m]\u001b[0m\u001b[0;34m,\u001b[0m \u001b[0mtranslation\u001b[0m\u001b[0;34m)\u001b[0m\u001b[0;34m\u001b[0m\u001b[0;34m\u001b[0m\u001b[0m\n\u001b[0m\u001b[1;32m     10\u001b[0m \u001b[0;34m\u001b[0m\u001b[0m\n\u001b[1;32m     11\u001b[0m \u001b[0;32mdef\u001b[0m \u001b[0mmain\u001b[0m\u001b[0;34m(\u001b[0m\u001b[0;34m)\u001b[0m\u001b[0;34m:\u001b[0m\u001b[0;34m\u001b[0m\u001b[0;34m\u001b[0m\u001b[0m\n",
            "\u001b[0;32m/usr/local/lib/python3.10/dist-packages/nltk/translate/meteor_score.py\u001b[0m in \u001b[0;36mmeteor_score\u001b[0;34m(references, hypothesis, preprocess, stemmer, wordnet, alpha, beta, gamma)\u001b[0m\n\u001b[1;32m    395\u001b[0m     \u001b[0;34m:\u001b[0m\u001b[0;32mreturn\u001b[0m\u001b[0;34m:\u001b[0m \u001b[0mThe\u001b[0m \u001b[0msentence\u001b[0m\u001b[0;34m-\u001b[0m\u001b[0mlevel\u001b[0m \u001b[0mMETEOR\u001b[0m \u001b[0mscore\u001b[0m\u001b[0;34m.\u001b[0m\u001b[0;34m\u001b[0m\u001b[0;34m\u001b[0m\u001b[0m\n\u001b[1;32m    396\u001b[0m     \"\"\"\n\u001b[0;32m--> 397\u001b[0;31m     return max(\n\u001b[0m\u001b[1;32m    398\u001b[0m         single_meteor_score(\n\u001b[1;32m    399\u001b[0m             \u001b[0mreference\u001b[0m\u001b[0;34m,\u001b[0m\u001b[0;34m\u001b[0m\u001b[0;34m\u001b[0m\u001b[0m\n",
            "\u001b[0;32m/usr/local/lib/python3.10/dist-packages/nltk/translate/meteor_score.py\u001b[0m in \u001b[0;36m<genexpr>\u001b[0;34m(.0)\u001b[0m\n\u001b[1;32m    396\u001b[0m     \"\"\"\n\u001b[1;32m    397\u001b[0m     return max(\n\u001b[0;32m--> 398\u001b[0;31m         single_meteor_score(\n\u001b[0m\u001b[1;32m    399\u001b[0m             \u001b[0mreference\u001b[0m\u001b[0;34m,\u001b[0m\u001b[0;34m\u001b[0m\u001b[0;34m\u001b[0m\u001b[0m\n\u001b[1;32m    400\u001b[0m             \u001b[0mhypothesis\u001b[0m\u001b[0;34m,\u001b[0m\u001b[0;34m\u001b[0m\u001b[0;34m\u001b[0m\u001b[0m\n",
            "\u001b[0;32m/usr/local/lib/python3.10/dist-packages/nltk/translate/meteor_score.py\u001b[0m in \u001b[0;36msingle_meteor_score\u001b[0;34m(reference, hypothesis, preprocess, stemmer, wordnet, alpha, beta, gamma)\u001b[0m\n\u001b[1;32m    324\u001b[0m     \u001b[0;34m:\u001b[0m\u001b[0;32mreturn\u001b[0m\u001b[0;34m:\u001b[0m \u001b[0mThe\u001b[0m \u001b[0msentence\u001b[0m\u001b[0;34m-\u001b[0m\u001b[0mlevel\u001b[0m \u001b[0mMETEOR\u001b[0m \u001b[0mscore\u001b[0m\u001b[0;34m.\u001b[0m\u001b[0;34m\u001b[0m\u001b[0;34m\u001b[0m\u001b[0m\n\u001b[1;32m    325\u001b[0m     \"\"\"\n\u001b[0;32m--> 326\u001b[0;31m     enum_hypothesis, enum_reference = _generate_enums(\n\u001b[0m\u001b[1;32m    327\u001b[0m         \u001b[0mhypothesis\u001b[0m\u001b[0;34m,\u001b[0m \u001b[0mreference\u001b[0m\u001b[0;34m,\u001b[0m \u001b[0mpreprocess\u001b[0m\u001b[0;34m=\u001b[0m\u001b[0mpreprocess\u001b[0m\u001b[0;34m\u001b[0m\u001b[0;34m\u001b[0m\u001b[0m\n\u001b[1;32m    328\u001b[0m     )\n",
            "\u001b[0;32m/usr/local/lib/python3.10/dist-packages/nltk/translate/meteor_score.py\u001b[0m in \u001b[0;36m_generate_enums\u001b[0;34m(hypothesis, reference, preprocess)\u001b[0m\n\u001b[1;32m     31\u001b[0m     \"\"\"\n\u001b[1;32m     32\u001b[0m     \u001b[0;32mif\u001b[0m \u001b[0misinstance\u001b[0m\u001b[0;34m(\u001b[0m\u001b[0mhypothesis\u001b[0m\u001b[0;34m,\u001b[0m \u001b[0mstr\u001b[0m\u001b[0;34m)\u001b[0m\u001b[0;34m:\u001b[0m\u001b[0;34m\u001b[0m\u001b[0;34m\u001b[0m\u001b[0m\n\u001b[0;32m---> 33\u001b[0;31m         raise TypeError(\n\u001b[0m\u001b[1;32m     34\u001b[0m             \u001b[0;34mf'\"hypothesis\" expects pre-tokenized hypothesis (Iterable[str]): {hypothesis}'\u001b[0m\u001b[0;34m\u001b[0m\u001b[0;34m\u001b[0m\u001b[0m\n\u001b[1;32m     35\u001b[0m         )\n",
            "\u001b[0;31mTypeError\u001b[0m: \"hypothesis\" expects pre-tokenized hypothesis (Iterable[str]): Verwenden Sie immer die richtige Sicherheitsausrüstung zum Beispiel, Sicherheitsbrille, Handschuhe und Sicherheitsschuhe. Verwenden Sie nur die richtigen Werkzeuge für Wartungs- und Reparaturarbeiten.  Verwenden Sie nur echte Ersatzteile für die Wartung oder Reparatur.  Der Hersteller wird alle Schäden oder Verletzungen, die durch den Einsatz von nicht-echten Ersatzteilen.  Alle Wartungsarbeiten erfolgen, wenn die Maschine abgekühlt ist.  Ein Warnschild mit einer Legende wie Arbeit in Arbeit beginnen nicht an der Startausrüstung angebracht werden."
          ]
        }
      ]
    },
    {
      "cell_type": "markdown",
      "source": [
        "*3-line Input*"
      ],
      "metadata": {
        "id": "nzSPisbYaajt"
      }
    },
    {
      "cell_type": "code",
      "source": [
        "import nltk\n",
        "from nltk.translate.meteor_score import meteor_score\n",
        "\n",
        "# Download required resources for NLTK\n",
        "nltk.download('wordnet')\n",
        "nltk.download('punkt')\n",
        "\n",
        "def calculate_meteor_score(reference, translation):\n",
        "    return meteor_score([reference], translation)\n",
        "\n",
        "def tokenize_sentence(sentence):\n",
        "    return nltk.word_tokenize(sentence)\n",
        "\n",
        "def main():\n",
        "    reference = input(\"Enter the reference sentence: \")\n",
        "    translation = input(\"Enter the translated sentence: \")\n",
        "\n",
        "    reference_tokens = tokenize_sentence(reference)\n",
        "    translation_tokens = tokenize_sentence(translation)\n",
        "\n",
        "    score = calculate_meteor_score(reference_tokens, translation_tokens)\n",
        "    print(\"METEOR Score:\", score)\n",
        "\n",
        "if __name__ == \"__main__\":\n",
        "    main()\n"
      ],
      "metadata": {
        "colab": {
          "base_uri": "https://localhost:8080/"
        },
        "id": "VCIRocIZvJaf",
        "outputId": "007fedf0-9d72-4d99-aef0-93e2e052f366"
      },
      "execution_count": null,
      "outputs": [
        {
          "output_type": "stream",
          "name": "stderr",
          "text": [
            "[nltk_data] Downloading package wordnet to /root/nltk_data...\n",
            "[nltk_data]   Package wordnet is already up-to-date!\n",
            "[nltk_data] Downloading package punkt to /root/nltk_data...\n",
            "[nltk_data]   Package punkt is already up-to-date!\n"
          ]
        },
        {
          "output_type": "stream",
          "name": "stdout",
          "text": [
            "Enter the reference sentence: • Immer die richtige Sicherheitsausrüstung verwenden (z. B. Schutzbrille, Handschuhe und Sicherheitsschuhe). • Wartungs- und Reparaturarbeiten dürfen nur mit den korrekten Werkzeugen durchgeführt werden. • Verwenden Sie ausschließlich Originalersatzteile für Wartungs- oder Reparaturarbeiten. Der Hersteller lehnt jegliche Haftung für Schäden oder Verletzungen durch die Verwendung von nicht originalen Ersatzteilen ab. • Sämtliche Wartungsarbeiten sind nach dem Abkühlen der Maschine durchzuführen. • Ein entsprechendes Warnschild, z. B. mit der Aufschrift \"Laufende Arbeiten; Maschine nicht starten\" ist an der Starteinrichtung anzubringen.\n",
            "Enter the translated sentence: Verwenden Sie immer die richtige Sicherheitsausrüstung zum Beispiel, Sicherheitsbrille, Handschuhe und Sicherheitsschuhe. Verwenden Sie nur die richtigen Werkzeuge für Wartungs- und Reparaturarbeiten.  Verwenden Sie nur echte Ersatzteile für die Wartung oder Reparatur.  Der Hersteller wird alle Schäden oder Verletzungen, die durch den Einsatz von nicht-echten Ersatzteilen.  Alle Wartungsarbeiten erfolgen, wenn die Maschine abgekühlt ist.  Ein Warnschild mit einer Legende wie Arbeit in Arbeit beginnen nicht an der Startausrüstung angebracht werden.\n",
            "METEOR Score: 0.3615550755939525\n"
          ]
        }
      ]
    },
    {
      "cell_type": "markdown",
      "source": [
        "*10-15 Line Input*"
      ],
      "metadata": {
        "id": "ZvTIA3pVcS7i"
      }
    },
    {
      "cell_type": "code",
      "source": [
        "import nltk\n",
        "from nltk.translate.meteor_score import meteor_score\n",
        "\n",
        "# Download required resources for NLTK\n",
        "nltk.download('wordnet')\n",
        "nltk.download('punkt')\n",
        "\n",
        "def calculate_meteor_score(reference, translation):\n",
        "    return meteor_score([reference], translation)\n",
        "\n",
        "def tokenize_sentence(sentence):\n",
        "    return nltk.word_tokenize(sentence)\n",
        "\n",
        "def main():\n",
        "    reference = input(\"Enter the reference sentence: \")\n",
        "    translation = input(\"Enter the translated sentence: \")\n",
        "\n",
        "    reference_tokens = tokenize_sentence(reference)\n",
        "    translation_tokens = tokenize_sentence(translation)\n",
        "\n",
        "    score = calculate_meteor_score(reference_tokens, translation_tokens)\n",
        "    print(\"METEOR Score:\", score)\n",
        "\n",
        "if __name__ == \"__main__\":\n",
        "    main()\n"
      ],
      "metadata": {
        "colab": {
          "base_uri": "https://localhost:8080/"
        },
        "id": "mZBOBrrysAWC",
        "outputId": "4383605b-6963-4ee3-f7b5-347ae5f46c5e"
      },
      "execution_count": null,
      "outputs": [
        {
          "output_type": "stream",
          "name": "stderr",
          "text": [
            "[nltk_data] Downloading package wordnet to /root/nltk_data...\n",
            "[nltk_data] Downloading package punkt to /root/nltk_data...\n",
            "[nltk_data]   Unzipping tokenizers/punkt.zip.\n"
          ]
        },
        {
          "output_type": "stream",
          "name": "stdout",
          "text": [
            "Enter the reference sentence: • Immer die richtige Sicherheitsausrüstung verwenden (z. B. Schutzbrille, Handschuhe und Sicherheitsschuhe). • Wartungs- und Reparaturarbeiten dürfen nur mit den korrekten Werkzeugen durchgeführt werden. • Verwenden Sie ausschließlich Originalersatzteile für Wartungs- oder Reparaturarbeiten. Der Hersteller lehnt jegliche Haftung für Schäden oder Verletzungen durch die Verwendung von nicht originalen Ersatzteilen ab. • Sämtliche Wartungsarbeiten sind nach dem Abkühlen der Maschine durchzuführen.\n",
            "Enter the translated sentence: • Verwenden Sie immer die richtige Sicherheitsausrüstung (z.B. Schutzbrille, Handschuhe und Sicherheitsschuhe).  • Verwenden Sie nur die richtigen Werkzeuge für Wartungs- und Reparaturarbeiten.  • Verwenden Sie nur echte Ersatzteile für Wartungs- oder Reparaturarbeiten. Der Hersteller wird alle Schäden oder Verletzungen, die durch den Einsatz von nicht-echten Ersatzteilen verursacht werden, ausschließen.  • Alle Wartungsarbeiten werden durchgeführt, wenn die Maschine abgekühlt ist.\n",
            "METEOR Score: 0.5900236275971904\n"
          ]
        }
      ]
    },
    {
      "cell_type": "markdown",
      "source": [
        "*One Whole Page Input*"
      ],
      "metadata": {
        "id": "x8TLpPtNcawF"
      }
    },
    {
      "cell_type": "code",
      "source": [
        "import nltk\n",
        "from nltk.translate.meteor_score import meteor_score\n",
        "\n",
        "# Download required resources for NLTK\n",
        "nltk.download('wordnet')\n",
        "nltk.download('punkt')\n",
        "\n",
        "def calculate_meteor_score(reference, translation):\n",
        "    return meteor_score([reference], translation)\n",
        "\n",
        "def tokenize_sentence(sentence):\n",
        "    return nltk.word_tokenize(sentence)\n",
        "\n",
        "def main():\n",
        "    reference = input(\"Enter the reference sentence: \")\n",
        "    translation = input(\"Enter the translated sentence: \")\n",
        "\n",
        "    reference_tokens = tokenize_sentence(reference)\n",
        "    translation_tokens = tokenize_sentence(translation)\n",
        "\n",
        "    score = calculate_meteor_score(reference_tokens, translation_tokens)\n",
        "    print(\"METEOR Score:\", score)\n",
        "\n",
        "if __name__ == \"__main__\":\n",
        "    main()\n"
      ],
      "metadata": {
        "colab": {
          "base_uri": "https://localhost:8080/"
        },
        "id": "FWLXZOOI44Vz",
        "outputId": "f3835294-6b10-4c0a-9e0c-06f4c8a616d7"
      },
      "execution_count": null,
      "outputs": [
        {
          "output_type": "stream",
          "name": "stderr",
          "text": [
            "[nltk_data] Downloading package wordnet to /root/nltk_data...\n",
            "[nltk_data] Downloading package punkt to /root/nltk_data...\n",
            "[nltk_data]   Unzipping tokenizers/punkt.zip.\n"
          ]
        },
        {
          "output_type": "stream",
          "name": "stdout",
          "text": [
            "Enter the reference sentence: • Immer die richtige Sicherheitsausrüstung verwenden (z. B. Schutzbrille, Handschuhe und Sicherheitsschuhe). • Wartungs- und Reparaturarbeiten dürfen nur mit den korrekten Werkzeugen durchgeführt werden. • Verwenden Sie ausschließlich Originalersatzteile für Wartungs- oder Reparaturarbeiten. Der Hersteller lehnt jegliche Haftung für Schäden oder Verletzungen durch die Verwendung von nicht originalen Ersatzteilen ab. • Sämtliche Wartungsarbeiten sind nach dem Abkühlen der Maschine durchzuführen. • Ein entsprechendes Warnschild, z. B. mit der Aufschrift \"Laufende Arbeiten; Maschine nicht starten\" ist an der Starteinrichtung anzubringen.\n",
            "Enter the translated sentence: • Verwenden Sie immer die richtige Sicherheitsausrüstung (z.B. Sicherheitsbrille, Handschuhe und Sicherheitsschuhe). • Verwenden Sie nur die richtigen Werkzeuge für Wartungs- und Reparaturarbeiten. • Verwenden Sie nur echte Ersatzteile für Wartungs- oder Reparaturarbeiten. Der Hersteller wird alle Schäden oder Verletzungen, die durch den Einsatz von nicht-echten Ersatzteilen verursacht werden, ausschließen. • Alle Wartungsarbeiten werden durchgeführt, wenn die Maschine abgekühlt ist. • Ein Warnschild mit einer Legende wie \"Arbeit im Gange; nicht beginnen\" ist an die Startausrüstung anzubringen.\n",
            "METEOR Score: 0.5067077966835942\n"
          ]
        }
      ]
    },
    {
      "cell_type": "code",
      "source": [
        "import nltk\n",
        "from nltk.translate.meteor_score import meteor_score\n",
        "from nltk.corpus import wordnet\n",
        "from nltk.tokenize import word_tokenize\n",
        "from nltk.stem import WordNetLemmatizer\n",
        "\n",
        "# Download required resources for NLTK\n",
        "nltk.download('wordnet')\n",
        "nltk.download('punkt')\n",
        "\n",
        "lemmatizer = WordNetLemmatizer()\n",
        "\n",
        "def preprocess_sentence(sentence):\n",
        "    # Lowercase the sentence\n",
        "    sentence = sentence.lower()\n",
        "    # Tokenize the sentence\n",
        "    tokens = word_tokenize(sentence)\n",
        "    # Lemmatize the tokens\n",
        "    lemmatized_tokens = [lemmatizer.lemmatize(token) for token in tokens if token.isalnum()]\n",
        "    return lemmatized_tokens\n",
        "\n",
        "def calculate_meteor_score(reference, translation):\n",
        "    return meteor_score([reference], translation) # reference should be a list of strings\n",
        "\n",
        "def main():\n",
        "    reference = input(\"Enter the reference sentence: \")\n",
        "    translation = input(\"Enter the translated sentence: \")\n",
        "\n",
        "    reference_tokens = preprocess_sentence(reference)\n",
        "    translation_tokens = preprocess_sentence(translation)\n",
        "\n",
        "    # Pass the tokenized lists directly to calculate_meteor_score\n",
        "    score = calculate_meteor_score(reference_tokens, translation_tokens)\n",
        "    print(\"METEOR Score:\", score)\n",
        "\n",
        "if __name__ == \"__main__\":\n",
        "    main()"
      ],
      "metadata": {
        "colab": {
          "base_uri": "https://localhost:8080/"
        },
        "id": "mbC5XCeO6DfP",
        "outputId": "8023f469-4eeb-4d42-c878-18dc92dda243"
      },
      "execution_count": null,
      "outputs": [
        {
          "output_type": "stream",
          "name": "stderr",
          "text": [
            "[nltk_data] Downloading package wordnet to /root/nltk_data...\n",
            "[nltk_data]   Package wordnet is already up-to-date!\n",
            "[nltk_data] Downloading package punkt to /root/nltk_data...\n",
            "[nltk_data]   Package punkt is already up-to-date!\n"
          ]
        },
        {
          "output_type": "stream",
          "name": "stdout",
          "text": [
            "Enter the reference sentence: • Immer die richtige Sicherheitsausrüstung verwenden (z. B. Schutzbrille, Handschuhe und Sicherheitsschuhe). • Wartungs- und Reparaturarbeiten dürfen nur mit den korrekten Werkzeugen durchgeführt werden. • Verwenden Sie ausschließlich Originalersatzteile für Wartungs- oder Reparaturarbeiten. Der Hersteller lehnt jegliche Haftung für Schäden oder Verletzungen durch die Verwendung von nicht originalen Ersatzteilen ab. • Sämtliche Wartungsarbeiten sind nach dem Abkühlen der Maschine durchzuführen.\n",
            "Enter the translated sentence: • Verwenden Sie immer die richtige Sicherheitsausrüstung (z.B. Schutzbrille, Handschuhe und Sicherheitsschuhe).  • Verwenden Sie nur die richtigen Werkzeuge für Wartungs- und Reparaturarbeiten.  • Verwenden Sie nur echte Ersatzteile für Wartungs- oder Reparaturarbeiten. Der Hersteller wird alle Schäden oder Verletzungen, die durch den Einsatz von nicht-echten Ersatzteilen verursacht werden, ausschließen.  • Alle Wartungsarbeiten werden durchgeführt, wenn die Maschine abgekühlt ist.\n",
            "METEOR Score: 0.5011361929086539\n"
          ]
        }
      ]
    },
    {
      "cell_type": "code",
      "source": [
        "import nltk\n",
        "from nltk.translate.meteor_score import meteor_score\n",
        "from nltk.corpus import wordnet\n",
        "from nltk.tokenize import word_tokenize\n",
        "from nltk.stem import WordNetLemmatizer\n",
        "\n",
        "# Download required resources for NLTK\n",
        "nltk.download('wordnet')\n",
        "nltk.download('punkt')\n",
        "\n",
        "lemmatizer = WordNetLemmatizer()\n",
        "\n",
        "def preprocess_sentence(sentence):\n",
        "    # Lowercase the sentence\n",
        "    sentence = sentence.lower()\n",
        "    # Tokenize the sentence\n",
        "    tokens = word_tokenize(sentence)\n",
        "    # Lemmatize the tokens\n",
        "    lemmatized_tokens = [lemmatizer.lemmatize(token) for token in tokens if token.isalnum()]\n",
        "    return lemmatized_tokens\n",
        "\n",
        "def calculate_meteor_score(reference, translation):\n",
        "    # Pass the tokenized lists directly to meteor_score\n",
        "    return meteor_score([reference], translation)\n",
        "\n",
        "def main():\n",
        "    reference = input(\"Enter the reference sentence: \")\n",
        "    translation = input(\"Enter the translated sentence: \")\n",
        "\n",
        "    reference_tokens = preprocess_sentence(reference)\n",
        "    translation_tokens = preprocess_sentence(translation)\n",
        "\n",
        "    # No need to join tokens back into strings\n",
        "    score = calculate_meteor_score(reference_tokens, translation_tokens)\n",
        "    print(\"METEOR Score:\", score)\n",
        "\n",
        "if __name__ == \"__main__\":\n",
        "    main()"
      ],
      "metadata": {
        "colab": {
          "base_uri": "https://localhost:8080/"
        },
        "id": "wtJgrYzP9b2H",
        "outputId": "3ab1fe43-0172-48d1-ae81-8112436e016e"
      },
      "execution_count": null,
      "outputs": [
        {
          "output_type": "stream",
          "name": "stderr",
          "text": [
            "[nltk_data] Downloading package wordnet to /root/nltk_data...\n",
            "[nltk_data]   Package wordnet is already up-to-date!\n",
            "[nltk_data] Downloading package punkt to /root/nltk_data...\n",
            "[nltk_data]   Package punkt is already up-to-date!\n"
          ]
        },
        {
          "output_type": "stream",
          "name": "stdout",
          "text": [
            "Enter the reference sentence: • Immer die richtige Sicherheitsausrüstung verwenden (z. B. Schutzbrille, Handschuhe und Sicherheitsschuhe). • Wartungs- und Reparaturarbeiten dürfen nur mit den korrekten Werkzeugen durchgeführt werden. • Verwenden Sie ausschließlich Originalersatzteile für Wartungs- oder Reparaturarbeiten. Der Hersteller lehnt jegliche Haftung für Schäden oder Verletzungen durch die Verwendung von nicht originalen Ersatzteilen ab. • Sämtliche Wartungsarbeiten sind nach dem Abkühlen der Maschine durchzuführen. • Ein entsprechendes Warnschild, z. B. mit der Aufschrift \"Laufende Arbeiten; Maschine nicht starten\" ist an der Starteinrichtung anzubringen.\n",
            "Enter the translated sentence: Verwenden Sie immer die richtige Sicherheitsausrüstung zum Beispiel, Sicherheitsbrille, Handschuhe und Sicherheitsschuhe. Verwenden Sie nur die richtigen Werkzeuge für Wartungs- und Reparaturarbeiten.  Verwenden Sie nur echte Ersatzteile für die Wartung oder Reparatur.  Der Hersteller wird alle Schäden oder Verletzungen, die durch den Einsatz von nicht-echten Ersatzteilen.  Alle Wartungsarbeiten erfolgen, wenn die Maschine abgekühlt ist.  Ein Warnschild mit einer Legende wie Arbeit in Arbeit beginnen nicht an der Startausrüstung angebracht werden.\n",
            "METEOR Score: 0.4048656499636892\n"
          ]
        }
      ]
    },
    {
      "cell_type": "markdown",
      "source": [
        "**WORD ERROR RATE**"
      ],
      "metadata": {
        "id": "n9r-0nt_hSWx"
      }
    },
    {
      "cell_type": "markdown",
      "source": [
        "*3 Line Input*"
      ],
      "metadata": {
        "id": "mRKJtGCPchNH"
      }
    },
    {
      "cell_type": "code",
      "source": [
        "def wer(reference, hypothesis):\n",
        "    # Tokenization\n",
        "    ref_words = reference.split()\n",
        "    hyp_words = hypothesis.split()\n",
        "\n",
        "    # Initialize matrices for dynamic programming\n",
        "    dp = [[0] * (len(hyp_words) + 1) for _ in range(len(ref_words) + 1)]\n",
        "\n",
        "    # Initialize first row and column\n",
        "    for i in range(len(ref_words) + 1):\n",
        "        dp[i][0] = i\n",
        "    for j in range(len(hyp_words) + 1):\n",
        "        dp[0][j] = j\n",
        "\n",
        "    # Dynamic programming to compute edit distance\n",
        "    for i in range(1, len(ref_words) + 1):\n",
        "        for j in range(1, len(hyp_words) + 1):\n",
        "            if ref_words[i - 1] == hyp_words[j - 1]:\n",
        "                dp[i][j] = dp[i - 1][j - 1]\n",
        "            else:\n",
        "                dp[i][j] = min(dp[i - 1][j - 1], dp[i][j - 1], dp[i - 1][j]) + 1\n",
        "\n",
        "    # Calculate substitutions, deletions, and insertions\n",
        "    substitutions = dp[len(ref_words)][len(hyp_words)]\n",
        "    deletions = len(ref_words) - substitutions\n",
        "    insertions = len(hyp_words) - substitutions\n",
        "\n",
        "    # Calculate WER\n",
        "    wer = (substitutions + deletions + insertions) / len(ref_words) * 100\n",
        "    return wer\n",
        "\n",
        "# User input\n",
        "reference_text = input(\"Enter the reference text: \").strip().lower()\n",
        "hypothesis_text = input(\"Enter the hypothesis text: \").strip().lower()\n",
        "\n",
        "# Calculate and print WER\n",
        "wer_score = wer(reference_text, hypothesis_text)\n",
        "print(\"Word Error Rate (WER): {:.2f}%\".format(wer_score))\n"
      ],
      "metadata": {
        "colab": {
          "base_uri": "https://localhost:8080/"
        },
        "id": "V0NQ8tWK6TCR",
        "outputId": "e0596ada-7c72-4a90-84eb-903478911227"
      },
      "execution_count": null,
      "outputs": [
        {
          "output_type": "stream",
          "name": "stdout",
          "text": [
            "Enter the reference text: Die Maschine darf nur mit geeigneten Vorrichtungen, die den geltenden Vorschriften zur Arbeitssicherheit entsprechen, angehoben werden. Lockere oder drehbare Teile müssen vor dem Anheben sicher befestigt werden. Der Aufenthalt im Gefahrenbereich unter einer angehobenen Last ist strengstens verboten. Beschleunigungs- und Bremsvorgänge beim Heben müssen innerhalb sicherer Grenzen erfolgen. Bei Arbeiten unter angehobener Ausrüstung oder in der Nähe von Hebevorrichtungen ist ein Schutzhelm zu tragen.\n",
            "Enter the hypothesis text: Die Maschine darf nur mit geeigneten Geräten gemäß den geltenden Sicherheitsvorschriften angehoben werden.Lose oder drehende Teile müssen vor dem Heben sicher befestigt sein.Es ist strengstens verboten, unter einer angehobenen Belastung in der Risikozone zu wohnen oder in der Risikozone zu bleiben.Das Anheben der Beschleunigung und Verzögerung muss innerhalb sicherer Grenzen gehalten werden.Tragen Sie einen Sicherheitshelm, wenn Sie im Bereich von Overhead- oder Hebegeräten arbeiten.\n",
            "Word Error Rate (WER): 123.44%\n"
          ]
        }
      ]
    },
    {
      "cell_type": "markdown",
      "source": [
        "*10-15 Lines Input*"
      ],
      "metadata": {
        "id": "EvRTLjaOcuCu"
      }
    },
    {
      "cell_type": "code",
      "source": [
        "def wer(reference, hypothesis):\n",
        "    # Tokenization\n",
        "    ref_words = reference.split()\n",
        "    hyp_words = hypothesis.split()\n",
        "\n",
        "    # Initialize matrices for dynamic programming\n",
        "    dp = [[0] * (len(hyp_words) + 1) for _ in range(len(ref_words) + 1)]\n",
        "\n",
        "    # Initialize first row and column\n",
        "    for i in range(len(ref_words) + 1):\n",
        "        dp[i][0] = i\n",
        "    for j in range(len(hyp_words) + 1):\n",
        "        dp[0][j] = j\n",
        "\n",
        "    # Dynamic programming to compute edit distance\n",
        "    for i in range(1, len(ref_words) + 1):\n",
        "        for j in range(1, len(hyp_words) + 1):\n",
        "            if ref_words[i - 1] == hyp_words[j - 1]:\n",
        "                dp[i][j] = dp[i - 1][j - 1]\n",
        "            else:\n",
        "                dp[i][j] = min(dp[i - 1][j - 1], dp[i][j - 1], dp[i - 1][j]) + 1\n",
        "\n",
        "    # Calculate substitutions, deletions, and insertions\n",
        "    substitutions = dp[len(ref_words)][len(hyp_words)]\n",
        "    deletions = len(ref_words) - substitutions\n",
        "    insertions = len(hyp_words) - substitutions\n",
        "\n",
        "    # Calculate WER\n",
        "    wer = (substitutions + deletions + insertions) / len(ref_words) * 100\n",
        "    return wer\n",
        "\n",
        "# User input\n",
        "reference_text = input(\"Enter the reference text: \").strip().lower()\n",
        "hypothesis_text = input(\"Enter the hypothesis text: \").strip().lower()\n",
        "\n",
        "# Calculate and print WER\n",
        "wer_score = wer(reference_text, hypothesis_text)\n",
        "print(\"Word Error Rate (WER): {:.2f}%\".format(wer_score))\n"
      ],
      "metadata": {
        "colab": {
          "base_uri": "https://localhost:8080/"
        },
        "id": "OsnmgRno97W4",
        "outputId": "5d449ed2-9d7d-44de-a99e-eeaf1c89e9b7"
      },
      "execution_count": null,
      "outputs": [
        {
          "output_type": "stream",
          "name": "stdout",
          "text": [
            "Enter the reference text: Der Bediener muss sichere Arbeitspraktiken anwenden und alle einschlägigen Vorschriften und Verordnungen zur Arbeitssicherheit einhalten. Bei Abweichungen zwischen den folgenden Anweisungen und der geltenden Gesetzgebung gilt  die jeweils strengere Vorschrift. Installation, Betrieb, Wartung und Reparatur dürfen nur durch autorisiertes und geschultes Fachpersonal durchgefuhrt werden.  Es ist durch persönliche Schutzausrustung, geeignete Werkzeuge und festgelegte Abläufe für ein sicheres Arbeitsumfeld zu sorgen.  Die vom Kompressor erzeugte Luft hat keine Atemluftqualität. Zur Erzeugung von Atemluftqualitat muss die Druckluft den geltenden Gesetzen und Normen entsprechend gereinigt werden.  Vor der Durchführung jeglicher Wartungs-, Reparatur- und Einstellarbeiten sowie aller anderen nicht routinemäßig durchgefuhrten Prüfungen:  Die Maschine anhalten.  Den Not-Halt-Taster drücken.  Die Spannung ausschalten.  An der Maschine eine Druckentlastung durchführen.  LOTO-Verfahren (Lock Out - Tag Out) ausführen  Den Trennschutzschalter öffnen, und mit einer persönlichen Verriegelung sperren.\n",
            "Enter the hypothesis text: Der Bediener muss sichere Arbeitspraktiken anwenden und alle damit verbundenen Arbeitssicherheitsanforderungen und vorschriften einhalten.  Wenn eine der folgenden Aussagen nicht mit den geltenden Rechtsvorschriften übereinstimmt, gilt die strengere der beiden Aussagen.  Installations-, Betriebs-, Wartungs- und Reparaturarbeiten dürfen nur von autorisiertem, geschultem Fachpersonal durchgeführt werden.  Das Personal sollte sichere Arbeitspraktiken anwenden, indem es persönliche Schutzausrüstung, geeignete Werkzeuge und festgelegte Verfahren verwendet.  Der Kompressor ist nicht in der Lage, Luft in Atemqualität zu erzeugen. Für Luft in Atemqualität muss die Druckluft entsprechend den geltenden Gesetzen und Normen angemessen gereinigt werden.  Vor jeder Wartung, Reparatur, Einstellung oder anderen nicht routinemäßigen Kontrollen:  Halten Sie die Maschine an.  Drücken Sie die Not-Aus-Taste.  Schalten Sie die Spannung aus.  Machen Sie die Maschine drucklos.  Verriegelung - Tag Out (LOTO)  Öffnen Sie den Netzfreischalter und verriegeln Sie ihn mit einem Personenschloss.  Beschriften Sie den Netzfreischalter mit dem Namen des Servicetechnikers.\n",
            "Word Error Rate (WER): 126.36%\n"
          ]
        }
      ]
    },
    {
      "cell_type": "markdown",
      "source": [
        "*One Whole Page Input*"
      ],
      "metadata": {
        "id": "-5SiFqOwcx7l"
      }
    },
    {
      "cell_type": "code",
      "source": [
        "def wer(reference, hypothesis):\n",
        "    # Tokenization\n",
        "    ref_words = reference.split()\n",
        "    hyp_words = hypothesis.split()\n",
        "\n",
        "    # Initialize matrices for dynamic programming\n",
        "    dp = [[0] * (len(hyp_words) + 1) for _ in range(len(ref_words) + 1)]\n",
        "\n",
        "    # Initialize first row and column\n",
        "    for i in range(len(ref_words) + 1):\n",
        "        dp[i][0] = i\n",
        "    for j in range(len(hyp_words) + 1):\n",
        "        dp[0][j] = j\n",
        "\n",
        "    # Dynamic programming to compute edit distance\n",
        "    for i in range(1, len(ref_words) + 1):\n",
        "        for j in range(1, len(hyp_words) + 1):\n",
        "            if ref_words[i - 1] == hyp_words[j - 1]:\n",
        "                dp[i][j] = dp[i - 1][j - 1]\n",
        "            else:\n",
        "                dp[i][j] = min(dp[i - 1][j - 1], dp[i][j - 1], dp[i - 1][j]) + 1\n",
        "\n",
        "    # Calculate substitutions, deletions, and insertions\n",
        "    substitutions = dp[len(ref_words)][len(hyp_words)]\n",
        "    deletions = len(ref_words) - substitutions\n",
        "    insertions = len(hyp_words) - substitutions\n",
        "\n",
        "    # Calculate WER\n",
        "    wer = (substitutions + deletions + insertions) / len(ref_words) * 100\n",
        "    return wer\n",
        "\n",
        "# User input\n",
        "reference_text = input(\"Enter the reference text: \").strip().lower()\n",
        "hypothesis_text = input(\"Enter the hypothesis text: \").strip().lower()\n",
        "\n",
        "# Calculate and print WER\n",
        "wer_score = wer(reference_text, hypothesis_text)\n",
        "print(\"Word Error Rate (WER): {:.2f}%\".format(wer_score))"
      ],
      "metadata": {
        "colab": {
          "base_uri": "https://localhost:8080/"
        },
        "id": "5t4RdPyN-eMn",
        "outputId": "8eaa079a-9c99-4d2f-8cd4-309516870b80"
      },
      "execution_count": null,
      "outputs": [
        {
          "output_type": "stream",
          "name": "stdout",
          "text": [
            "Enter the reference text: Bedienungsanleitung Atlas Copco Den Trennschutzschalter mit dem Namen des Servicetechnikers kennzeichnen. Bel von Frequenzwandlern gespeisten Einheiten vor der Durchführung von elektrischen Reparaturarbeiten mindestens 10 Minuten warten. Vor Wartungsarbeiten nicht auf Anzeigelampen oder elektrische Türverriegelung verlassen; stets trennen und mit Messgerät prüfen. GEFAHR Wenn die Maschine eine Funktion für einen automatischen Neustart nach Spannungsausfall hat und diese Funktion aktiviert ist, startet sle automatisch neu, sobald die Stromversorgung wiederhergestellt ist, wenn sie bel der Stromunterbrechung im Betrieb war! ! Nicht mit Druckluft spielen. Den Druckluftstrahl nicht auf die Haut oder auf Dritte richten. Druckluft nicht anwenden, um Schmutz von der Kleidung zu entfernen. Bel der Reinigung von Ausrüstung mit Druckluft ist mit äußerster Vorsicht vorzugehen; Augenschutz tragen. Der Besitzer trägt die Verantwortung dafur, dass die Einhelt stets in einem betriebssicheren Zustand gehalten wird. Telle und Zubehör, die für den sicheren Betrieb als ungeeignet befunden werden, sind unverzüglich auszuwechseln. Es ist verboten, auf der Einheit oder Ihren Komponenten zu gehen oder zu stehen. Die variable Drehzahiregelung ist mit einer \"Sichere Drehmomentabschaltung (STO)\"-Funktion ausgestattet, die durch den Not-Aus-Taster ausgelöst wird. Die Sichere Drehmomentabschaltung führt dazu, dass der Antrieb keine drehmomenterzeugende Energle mehr liefem kann. Der Antrieb ist zuverlässig drehmomentfrel. Dieser Zustand wird innerhalb des Antriebs überwacht. GEFAHR ! Die Sichere Drehmomentabschaltung trennt nicht die Stromversorgung der Haupt- und Zusatzstromkrelse des Antriebs. Wartungsarbeiten an elektrischen Tellen des Antriebs oder Motors sind erst durchzuführen, nachdem der Antrieb von der Stromversorgung getrennt wurde! Wenn Druckluft in der Lebensmittelindustrie und vor allem bel direktem Lebensmittelkontakt verwendet wird, wird für optimale Sicherheit der Einsatz von zertifizierten Klasse 0- Kompressoren In Kombination mit entsprechenden Filterm Je nach Anwendung empfohlen. Beratung zu spezifischen Filtem erhalten Sie von Ihrem Kundencenter. Der Serviceschalter darf nur von einem geschulten Servicetechniker des Herstellers betätigt werden. 1.3 Sicherheitsvorkehrungen während der Installation ! WARNUNG Der Hersteller lehnt jede Haftung für etwaige Schäden oder Verletzungen Infolge der Nichteinhaltung dieser Sicherheitsbestimmungen oder Infolge der Vernachlässigung der üblichen Vorsichtsmaßnahmen und Sorgfalt bel Installation, Betrieb, Wartung und Reparatur ab, auch wenn diese hier nicht ausdrücklich angeführt sind.\n",
            "Enter the hypothesis text: Gebrauchsanweisung Atlas Copco Warten Sie bel Geräten, die mit einem Frequenzumrichter betrieben werden, 10 Minuten, bevor Sie eine elektrische Reparatur durchführen. Verlassen Sie sich vor Wartungsarbeiten nicht auf Anzeigelampen oder elektrische Türverriegelungen, sondern schalten Sie diese Immer aus und überprüfen Sie sie mit einem Messgerät. GEFAHR Ist die Maschine mit einer Funktion zum automatischen Wiederanlauf nach Spannungsausfall ausgestattet und ist diese Funktion aktiv, 80 Ist zu beachten, dass die Maschine bel Wiederherstellung der Stromversorgung automatisch wieder anläuft, wenn sie bel der Unterbrechung der Stromversorgung In Betrieb war! Spielen Sie nicht mit komprimierter Luft. Richten Sie die Luft nicht auf Ihre Haut und richten Sie den Luftstrom nicht auf Personen. Verwenden Sie die Luft nicht, um Schmutz von Ihrer Kleidung zu entfernen. Wenn Sie die Luft zum Reinigen von Geräten verwenden, gehen Sie äußerst vorsichtig vor und tragen Sie einen Augenschutz. Der Eigentümer ist dafür verantwortlich, dass das Gerät in einem sicheren Betriebszustand gehalten wird. Telle und Zubehör sind zu ersetzen, wenn sie für einen sicheren Betrieb nicht geeignet sind. Es ist verboten, auf dem Gerät oder seinen Komponenten zu gehen oder zu stehen. Der Frequenzumrichter ist mit einer Safe-Torque-Off-Funktion ausgestattet, die durch den Not-Aus-Schalter ausgelöst wird. Die Safe Torque Off Funktion bewirkt, dass der Antrieb keine drehmomentbildende Energie mehr abgeben kann. Der Antrieb ist zuverlässig drehmomentfrel. Dieser Zustand wird antriebsintern überwacht. ! GEFAHR Die Funktion Sicher abgeschaltetes Moment trennt die Spannung der Haupt- und Hilfsstromkreise nicht vom Antrieb. Wartungsarbeiten an elektrischen Tellen des Antriebs oder des Motors dürfen nur nach Trennung des Antriebssystems von der Hauptversorgung durchgeführt werden! Wenn Druckluft in der Lebensmittelindustrie und insbesondere für den direkten Kontakt mit Lebensmitteln verwendet wird, wird für optimale Sicherhelt empfohlen, zertifizierte Kompressoren der Klasse 0 In Kombination mit einer geeigneten Filterung je nach Anwendung zu verwenden. Wenden Sie sich an Ihr Kundenzentrum, um eine Beratung zur spezifischen Filtration zu erhalten. Der Serviceschalter muss von einer geschulten Servicefachkraft des Herstellers bedient werden. 1.3 Sicherheitsvorkehrungen bei der Installation WARNUNG Der Hersteller lehnt jede Verantwortung für Schäden oder Verletzungen ab, die sich aus der Vernachlässigung dieser Vorsichtsmaßnahmen oder der Nichtbeachtung der normalen Vorsichts- und Sorgfaltspflichten bel Installation, Betrieb, Wartung und Reparatur ergeben, auch wenn dies nicht ausdrücklich angegeben ist. Das Anheben der Maschine darf nur mit geeigneter Ausrüstung und unter Beachtung der geltenden Sicherheitsvorschriften erfolgen. Lose oder schwenkbare Telle sind vor dem Anheben sicher zu befestigen. Es ist strengstens verboten, sich unter einer angehobenen Last Im Gefahrenbereich aufzuhalten. Die Hubbeschleunigung und -verzögerung muss Innerhalb sicherer Grenzen gehalten werden. Tragen Sie einen Schutzhelm, wenn Sie in der Nähe von Überkopf- oder Hebevorrichtungen arbeiten.\n",
            "Word Error Rate (WER): 141.07%\n"
          ]
        }
      ]
    },
    {
      "cell_type": "markdown",
      "source": [
        "**CHAR F-SCORE**"
      ],
      "metadata": {
        "id": "EkxwOpN_h80b"
      }
    },
    {
      "cell_type": "markdown",
      "source": [
        "*3 Line Input*"
      ],
      "metadata": {
        "id": "nV0CX6jDc1tT"
      }
    },
    {
      "cell_type": "code",
      "source": [
        "def char_precision_recall_fscore(ground_truth, predicted):\n",
        "    true_positives = sum(1 for c in predicted if c in ground_truth)\n",
        "    false_positives = sum(1 for c in predicted if c not in ground_truth)\n",
        "    false_negatives = sum(1 for c in ground_truth if c not in predicted)\n",
        "\n",
        "    precision = true_positives / (true_positives + false_positives) if true_positives + false_positives > 0 else 0\n",
        "    recall = true_positives / (true_positives + false_negatives) if true_positives + false_negatives > 0 else 0\n",
        "\n",
        "    # Calculate F-score with beta=1 (harmonic mean of precision and recall)\n",
        "    fscore = (2 * precision * recall) / (precision + recall) if precision + recall > 0 else 0\n",
        "\n",
        "    return precision, recall, fscore\n",
        "\n",
        "def main():\n",
        "    ground_truth = input(\"Enter ground truth string: \").strip()\n",
        "    predicted = input(\"Enter predicted string: \").strip()\n",
        "\n",
        "    precision, recall, fscore = char_precision_recall_fscore(ground_truth, predicted)\n",
        "\n",
        "    print(\"Precision:\", precision)\n",
        "    print(\"Recall:\", recall)\n",
        "    print(\"F-score:\", fscore)\n",
        "\n",
        "if __name__ == \"__main__\":\n",
        "    main()\n"
      ],
      "metadata": {
        "id": "s4N1_NsS-qE4",
        "colab": {
          "base_uri": "https://localhost:8080/"
        },
        "outputId": "b2522640-1167-44f2-dbf3-ce88b3cb2c90"
      },
      "execution_count": null,
      "outputs": [
        {
          "output_type": "stream",
          "name": "stdout",
          "text": [
            "Enter ground truth string: Die Maschine darf nur mit geeigneten Vorrichtungen, die den geltenden Vorschriften zur Arbeitssicherheit entsprechen, angehoben werden. Lockere oder drehbare Teile müssen vor dem Anheben sicher befestigt werden. Der Aufenthalt im Gefahrenbereich unter einer angehobenen Last ist strengstens verboten. Beschleunigungs- und Bremsvorgänge beim Heben müssen innerhalb sicherer Grenzen erfolgen. Bei Arbeiten unter angehobener Ausrüstung oder in der Nähe von Hebevorrichtungen ist ein Schutzhelm zu tragen.\n",
            "Enter predicted string: Die Maschine darf nur mit geeigneten Geräten gemäß den geltenden Sicherheitsvorschriften angehoben werden.Lose oder drehende Teile müssen vor dem Heben sicher befestigt sein.Es ist strengstens verboten, unter einer angehobenen Belastung in der Risikozone zu wohnen oder in der Risikozone zu bleiben.Das Anheben der Beschleunigung und Verzögerung muss innerhalb sicherer Grenzen gehalten werden.Tragen Sie einen Sicherheitshelm, wenn Sie im Bereich von Overhead- oder Hebegeräten arbeiten.\n",
            "Precision: 0.9877049180327869\n",
            "Recall: 0.9958677685950413\n",
            "F-score: 0.9917695473251029\n"
          ]
        }
      ]
    },
    {
      "cell_type": "markdown",
      "source": [
        "*10-15 Lines Input*"
      ],
      "metadata": {
        "id": "Erh45k9vc5zp"
      }
    },
    {
      "cell_type": "code",
      "source": [
        "def char_precision_recall_fscore(ground_truth, predicted):\n",
        "    true_positives = sum(1 for c in predicted if c in ground_truth)\n",
        "    false_positives = sum(1 for c in predicted if c not in ground_truth)\n",
        "    false_negatives = sum(1 for c in ground_truth if c not in predicted)\n",
        "\n",
        "    precision = true_positives / (true_positives + false_positives) if true_positives + false_positives > 0 else 0\n",
        "    recall = true_positives / (true_positives + false_negatives) if true_positives + false_negatives > 0 else 0\n",
        "\n",
        "    # Calculate F-score with beta=1 (harmonic mean of precision and recall)\n",
        "    fscore = (2 * precision * recall) / (precision + recall) if precision + recall > 0 else 0\n",
        "\n",
        "    return precision, recall, fscore\n",
        "\n",
        "def main():\n",
        "    ground_truth = input(\"Enter ground truth string: \").strip()\n",
        "    predicted = input(\"Enter predicted string: \").strip()\n",
        "\n",
        "    precision, recall, fscore = char_precision_recall_fscore(ground_truth, predicted)\n",
        "\n",
        "    print(\"Precision:\", precision)\n",
        "    print(\"Recall:\", recall)\n",
        "    print(\"F-score:\", fscore)\n",
        "\n",
        "if __name__ == \"__main__\":\n",
        "    main()\n"
      ],
      "metadata": {
        "colab": {
          "base_uri": "https://localhost:8080/"
        },
        "id": "djVY3u_7DT2T",
        "outputId": "9b5516ba-b047-43b4-b918-402827397b01"
      },
      "execution_count": null,
      "outputs": [
        {
          "output_type": "stream",
          "name": "stdout",
          "text": [
            "Enter ground truth string: Der Bediener muss sichere Arbeitspraktiken anwenden und alle einschlägigen Vorschriften und Verordnungen zur Arbeitssicherheit einhalten. Bei Abweichungen zwischen den folgenden Anweisungen und der geltenden Gesetzgebung gilt  die jeweils strengere Vorschrift. Installation, Betrieb, Wartung und Reparatur dürfen nur durch autorisiertes und geschultes Fachpersonal durchgefuhrt werden.  Es ist durch persönliche Schutzausrustung, geeignete Werkzeuge und festgelegte Abläufe für ein sicheres Arbeitsumfeld zu sorgen.  Die vom Kompressor erzeugte Luft hat keine Atemluftqualität. Zur Erzeugung von Atemluftqualitat muss die Druckluft den geltenden Gesetzen und Normen entsprechend gereinigt werden.  Vor der Durchführung jeglicher Wartungs-, Reparatur- und Einstellarbeiten sowie aller anderen nicht routinemäßig durchgefuhrten Prüfungen:  Die Maschine anhalten.  Den Not-Halt-Taster drücken.  Die Spannung ausschalten.  An der Maschine eine Druckentlastung durchführen.  LOTO-Verfahren (Lock Out - Tag Out) ausführen  Den Trennschutzschalter öffnen, und mit einer persönlichen Verriegelung sperren.\n",
            "Enter predicted string: Der Bediener muss sichere Arbeitspraktiken anwenden und alle damit verbundenen Arbeitssicherheitsanforderungen und vorschriften einhalten.  Wenn eine der folgenden Aussagen nicht mit den geltenden Rechtsvorschriften übereinstimmt, gilt die strengere der beiden Aussagen.  Installations-, Betriebs-, Wartungs- und Reparaturarbeiten dürfen nur von autorisiertem, geschultem Fachpersonal durchgeführt werden.  Das Personal sollte sichere Arbeitspraktiken anwenden, indem es persönliche Schutzausrüstung, geeignete Werkzeuge und festgelegte Verfahren verwendet.  Der Kompressor ist nicht in der Lage, Luft in Atemqualität zu erzeugen. Für Luft in Atemqualität muss die Druckluft entsprechend den geltenden Gesetzen und Normen angemessen gereinigt werden.  Vor jeder Wartung, Reparatur, Einstellung oder anderen nicht routinemäßigen Kontrollen:  Halten Sie die Maschine an.  Drücken Sie die Not-Aus-Taste.  Schalten Sie die Spannung aus.  Machen Sie die Maschine drucklos.  Verriegelung - Tag Out (LOTO)  Öffnen Sie den Netzfreischalter und verriegeln Sie ihn mit einem Personenschloss.  Beschriften Sie den Netzfreischalter mit dem Namen des Servicetechnikers.\n",
            "Precision: 0.9991349480968859\n",
            "Recall: 0.9982713915298185\n",
            "F-score: 0.9987029831387808\n"
          ]
        }
      ]
    },
    {
      "cell_type": "markdown",
      "source": [
        "*One Whole Page Input*"
      ],
      "metadata": {
        "id": "XjSuKNbIc93K"
      }
    },
    {
      "cell_type": "code",
      "source": [
        "def char_precision_recall_fscore(ground_truth, predicted):\n",
        "    true_positives = sum(1 for c in predicted if c in ground_truth)\n",
        "    false_positives = sum(1 for c in predicted if c not in ground_truth)\n",
        "    false_negatives = sum(1 for c in ground_truth if c not in predicted)\n",
        "\n",
        "    precision = true_positives / (true_positives + false_positives) if true_positives + false_positives > 0 else 0\n",
        "    recall = true_positives / (true_positives + false_negatives) if true_positives + false_negatives > 0 else 0\n",
        "\n",
        "    # Calculate F-score with beta=1 (harmonic mean of precision and recall)\n",
        "    fscore = (2 * precision * recall) / (precision + recall) if precision + recall > 0 else 0\n",
        "\n",
        "    return precision, recall, fscore\n",
        "\n",
        "def main():\n",
        "    ground_truth = input(\"Enter ground truth string: \").strip()\n",
        "    predicted = input(\"Enter predicted string: \").strip()\n",
        "\n",
        "    precision, recall, fscore = char_precision_recall_fscore(ground_truth, predicted)\n",
        "\n",
        "    print(\"Precision:\", precision)\n",
        "    print(\"Recall:\", recall)\n",
        "    print(\"F-score:\", fscore)\n",
        "\n",
        "if __name__ == \"__main__\":\n",
        "    main()\n"
      ],
      "metadata": {
        "colab": {
          "base_uri": "https://localhost:8080/"
        },
        "id": "jLljGxLyEJkO",
        "outputId": "1652b7a6-607b-4a4d-c9cf-be4d553eed17"
      },
      "execution_count": null,
      "outputs": [
        {
          "output_type": "stream",
          "name": "stdout",
          "text": [
            "Enter ground truth string: Bedienungsanleitung Atlas Copco Den Trennschutzschalter mit dem Namen des Servicetechnikers kennzeichnen. Bel von Frequenzwandlern gespeisten Einheiten vor der Durchführung von elektrischen Reparaturarbeiten mindestens 10 Minuten warten. Vor Wartungsarbeiten nicht auf Anzeigelampen oder elektrische Türverriegelung verlassen; stets trennen und mit Messgerät prüfen. GEFAHR Wenn die Maschine eine Funktion für einen automatischen Neustart nach Spannungsausfall hat und diese Funktion aktiviert ist, startet sle automatisch neu, sobald die Stromversorgung wiederhergestellt ist, wenn sie bel der Stromunterbrechung im Betrieb war! ! Nicht mit Druckluft spielen. Den Druckluftstrahl nicht auf die Haut oder auf Dritte richten. Druckluft nicht anwenden, um Schmutz von der Kleidung zu entfernen. Bel der Reinigung von Ausrüstung mit Druckluft ist mit äußerster Vorsicht vorzugehen; Augenschutz tragen. Der Besitzer trägt die Verantwortung dafur, dass die Einhelt stets in einem betriebssicheren Zustand gehalten wird. Telle und Zubehör, die für den sicheren Betrieb als ungeeignet befunden werden, sind unverzüglich auszuwechseln. Es ist verboten, auf der Einheit oder Ihren Komponenten zu gehen oder zu stehen. Die variable Drehzahiregelung ist mit einer \"Sichere Drehmomentabschaltung (STO)\"-Funktion ausgestattet, die durch den Not-Aus-Taster ausgelöst wird. Die Sichere Drehmomentabschaltung führt dazu, dass der Antrieb keine drehmomenterzeugende Energle mehr liefem kann. Der Antrieb ist zuverlässig drehmomentfrel. Dieser Zustand wird innerhalb des Antriebs überwacht. GEFAHR ! Die Sichere Drehmomentabschaltung trennt nicht die Stromversorgung der Haupt- und Zusatzstromkrelse des Antriebs. Wartungsarbeiten an elektrischen Tellen des Antriebs oder Motors sind erst durchzuführen, nachdem der Antrieb von der Stromversorgung getrennt wurde! Wenn Druckluft in der Lebensmittelindustrie und vor allem bel direktem Lebensmittelkontakt verwendet wird, wird für optimale Sicherheit der Einsatz von zertifizierten Klasse 0- Kompressoren In Kombination mit entsprechenden Filterm Je nach Anwendung empfohlen. Beratung zu spezifischen Filtem erhalten Sie von Ihrem Kundencenter. Der Serviceschalter darf nur von einem geschulten Servicetechniker des Herstellers betätigt werden. 1.3 Sicherheitsvorkehrungen während der Installation ! WARNUNG Der Hersteller lehnt jede Haftung für etwaige Schäden oder Verletzungen Infolge der Nichteinhaltung dieser Sicherheitsbestimmungen oder Infolge der Vernachlässigung der üblichen Vorsichtsmaßnahmen und Sorgfalt bel Installation, Betrieb, Wartung und Reparatur ab, auch wenn diese hier nicht ausdrücklich angeführt sind.\n",
            "Enter predicted string: Gebrauchsanweisung Atlas Copco Warten Sie bel Geräten, die mit einem Frequenzumrichter betrieben werden, 10 Minuten, bevor Sie eine elektrische Reparatur durchführen. Verlassen Sie sich vor Wartungsarbeiten nicht auf Anzeigelampen oder elektrische Türverriegelungen, sondern schalten Sie diese Immer aus und überprüfen Sie sie mit einem Messgerät. GEFAHR Ist die Maschine mit einer Funktion zum automatischen Wiederanlauf nach Spannungsausfall ausgestattet und ist diese Funktion aktiv, 80 Ist zu beachten, dass die Maschine bel Wiederherstellung der Stromversorgung automatisch wieder anläuft, wenn sie bel der Unterbrechung der Stromversorgung In Betrieb war! Spielen Sie nicht mit komprimierter Luft. Richten Sie die Luft nicht auf Ihre Haut und richten Sie den Luftstrom nicht auf Personen. Verwenden Sie die Luft nicht, um Schmutz von Ihrer Kleidung zu entfernen. Wenn Sie die Luft zum Reinigen von Geräten verwenden, gehen Sie äußerst vorsichtig vor und tragen Sie einen Augenschutz. Der Eigentümer ist dafür verantwortlich, dass das Gerät in einem sicheren Betriebszustand gehalten wird. Telle und Zubehör sind zu ersetzen, wenn sie für einen sicheren Betrieb nicht geeignet sind. Es ist verboten, auf dem Gerät oder seinen Komponenten zu gehen oder zu stehen. Der Frequenzumrichter ist mit einer Safe-Torque-Off-Funktion ausgestattet, die durch den Not-Aus-Schalter ausgelöst wird. Die Safe Torque Off Funktion bewirkt, dass der Antrieb keine drehmomentbildende Energie mehr abgeben kann. Der Antrieb ist zuverlässig drehmomentfrel. Dieser Zustand wird antriebsintern überwacht. ! GEFAHR Die Funktion Sicher abgeschaltetes Moment trennt die Spannung der Haupt- und Hilfsstromkreise nicht vom Antrieb. Wartungsarbeiten an elektrischen Tellen des Antriebs oder des Motors dürfen nur nach Trennung des Antriebssystems von der Hauptversorgung durchgeführt werden! Wenn Druckluft in der Lebensmittelindustrie und insbesondere für den direkten Kontakt mit Lebensmitteln verwendet wird, wird für optimale Sicherhelt empfohlen, zertifizierte Kompressoren der Klasse 0 In Kombination mit einer geeigneten Filterung je nach Anwendung zu verwenden. Wenden Sie sich an Ihr Kundenzentrum, um eine Beratung zur spezifischen Filtration zu erhalten. Der Serviceschalter muss von einer geschulten Servicefachkraft des Herstellers bedient werden. 1.3 Sicherheitsvorkehrungen bei der Installation WARNUNG Der Hersteller lehnt jede Verantwortung für Schäden oder Verletzungen ab, die sich aus der Vernachlässigung dieser Vorsichtsmaßnahmen oder der Nichtbeachtung der normalen Vorsichts- und Sorgfaltspflichten bel Installation, Betrieb, Wartung und Reparatur ergeben, auch wenn dies nicht ausdrücklich angegeben ist. Das Anheben der Maschine darf nur mit geeigneter Ausrüstung und unter Beachtung der geltenden Sicherheitsvorschriften erfolgen. Lose oder schwenkbare Telle sind vor dem Anheben sicher zu befestigen. Es ist strengstens verboten, sich unter einer angehobenen Last Im Gefahrenbereich aufzuhalten. Die Hubbeschleunigung und -verzögerung muss Innerhalb sicherer Grenzen gehalten werden. Tragen Sie einen Schutzhelm, wenn Sie in der Nähe von Überkopf- oder Hebevorrichtungen arbeiten.\n",
            "Precision: 0.9987437185929648\n",
            "Recall: 0.9978035770316912\n",
            "F-score: 0.9982734264636636\n"
          ]
        }
      ]
    },
    {
      "cell_type": "markdown",
      "source": [
        "# **IBM Model Translation Accuracy**\n",
        "\n",
        "<style type=\"text/css\">\n",
        ".tg  {border-collapse:collapse;border-spacing:0;}\n",
        ".tg td{border-color:black;border-style:solid;border-width:1px;font-family:Arial, sans-serif;font-size:14px;\n",
        "  overflow:hidden;padding:10px 5px;word-break:normal;}\n",
        ".tg th{border-color:black;border-style:solid;border-width:1px;font-family:Arial, sans-serif;font-size:14px;\n",
        "  font-weight:normal;overflow:hidden;padding:10px 5px;word-break:normal;}\n",
        ".tg .tg-0pky{border-color:inherit;text-align:left;vertical-align:top}\n",
        ".tg .tg-0lax{text-align:left;vertical-align:top}\n",
        "</style>\n",
        "<table class=\"tg\">\n",
        "<thead>\n",
        "  <tr>\n",
        "    <th class=\"tg-0pky\">Score </th>\n",
        "    <th class=\"tg-0lax\">IBM Model</th>\n",
        "  </tr>\n",
        "</thead>\n",
        "<tbody>\n",
        "  <tr>\n",
        "    <td class=\"tg-0pky\" rowspan=\"3\">Meteor Score<br><br></td>\n",
        "    <td class=\"tg-0lax\">0.1407<br>(3-line input)</td>\n",
        "  </tr>\n",
        "  <tr>\n",
        "    <td class=\"tg-0lax\">0.1911<br>(10-15 lines input)</td>\n",
        "  </tr>\n",
        "  <tr>\n",
        "    <td class=\"tg-0lax\">0.3811<br>(One whole page input)</td>\n",
        "  </tr>\n",
        "  <tr>\n",
        "    <td class=\"tg-0pky\" rowspan=\"3\">Word Error Rate<br></td>\n",
        "    <td class=\"tg-0lax\">77.78%<br>(3-line input)</td>\n",
        "  </tr>\n",
        "  <tr>\n",
        "    <td class=\"tg-0lax\">104.35%<br>(10-15 lines input)</td>\n",
        "  </tr>\n",
        "  <tr>\n",
        "    <td class=\"tg-0lax\">110.85%<br>(One whole page input)</td>\n",
        "  </tr>\n",
        "  <tr>\n",
        "    <td class=\"tg-0pky\" rowspan=\"3\">Char F-Score</td>\n",
        "    <td class=\"tg-0lax\">0.9333<br>(3-line input)</td>\n",
        "  </tr>\n",
        "  <tr>\n",
        "    <td class=\"tg-0lax\">0.9825<br>(10-15 lines input)</td>\n",
        "  </tr>\n",
        "  <tr>\n",
        "    <td class=\"tg-0lax\">0.9960<br>(One whole page input)</td>\n",
        "  </tr>\n",
        "</tbody>\n",
        "</table>"
      ],
      "metadata": {
        "id": "m-Nv5RpamTLV"
      }
    },
    {
      "cell_type": "markdown",
      "source": [
        "**METEOR SCORE**"
      ],
      "metadata": {
        "id": "a3agJakfmlHl"
      }
    },
    {
      "cell_type": "markdown",
      "source": [
        "*3 line input*"
      ],
      "metadata": {
        "id": "3L6-t-ntomt-"
      }
    },
    {
      "cell_type": "code",
      "source": [
        "import nltk\n",
        "from nltk.translate.meteor_score import meteor_score\n",
        "\n",
        "# Download required resources for NLTK\n",
        "nltk.download('wordnet')\n",
        "nltk.download('punkt')\n",
        "\n",
        "def calculate_meteor_score(reference, translation):\n",
        "    return meteor_score([reference], translation)\n",
        "\n",
        "def tokenize_sentence(sentence):\n",
        "    return nltk.word_tokenize(sentence)\n",
        "\n",
        "def main():\n",
        "    reference = input(\"Enter the reference sentence: \")\n",
        "    translation = input(\"Enter the translated sentence: \")\n",
        "\n",
        "    reference_tokens = tokenize_sentence(reference)\n",
        "    translation_tokens = tokenize_sentence(translation)\n",
        "\n",
        "    score = calculate_meteor_score(reference_tokens, translation_tokens)\n",
        "    print(\"METEOR Score:\", score)\n",
        "\n",
        "if __name__ == \"__main__\":\n",
        "    main()\n"
      ],
      "metadata": {
        "colab": {
          "base_uri": "https://localhost:8080/"
        },
        "id": "wAdRxOFdma3X",
        "outputId": "f0465707-c395-4677-bcad-0090de20fbdb"
      },
      "execution_count": null,
      "outputs": [
        {
          "output_type": "stream",
          "name": "stderr",
          "text": [
            "[nltk_data] Downloading package wordnet to /root/nltk_data...\n",
            "[nltk_data]   Package wordnet is already up-to-date!\n",
            "[nltk_data] Downloading package punkt to /root/nltk_data...\n",
            "[nltk_data]   Package punkt is already up-to-date!\n"
          ]
        },
        {
          "output_type": "stream",
          "name": "stdout",
          "text": [
            "Enter the reference sentence: Die Maschine darf nur mit geeigneten Vorrichtungen, die den geltenden Vorschriften zur Arbeitssicherhelt entsprechen, angehoben werden. Lockere oder drehbare Telle müssen vor dem Anheben sicher befestigt werden.\n",
            "Enter the translated sentence: Falls das Gerät ein Kompressor ist, legen Sie die Maschine an, wo die Umgebungsluft so kühl und sauber wie möglich ist.\n",
            "METEOR Score: 0.1407224055738907\n"
          ]
        }
      ]
    },
    {
      "cell_type": "markdown",
      "source": [
        "*10-15 lines input*"
      ],
      "metadata": {
        "id": "PxNoJKVHorC2"
      }
    },
    {
      "cell_type": "code",
      "source": [
        "import nltk\n",
        "from nltk.translate.meteor_score import meteor_score\n",
        "\n",
        "# Download required resources for NLTK\n",
        "nltk.download('wordnet')\n",
        "nltk.download('punkt')\n",
        "\n",
        "def calculate_meteor_score(reference, translation):\n",
        "    return meteor_score([reference], translation)\n",
        "\n",
        "def tokenize_sentence(sentence):\n",
        "    return nltk.word_tokenize(sentence)\n",
        "\n",
        "def main():\n",
        "    reference = input(\"Enter the reference sentence: \")\n",
        "    translation = input(\"Enter the translated sentence: \")\n",
        "\n",
        "    reference_tokens = tokenize_sentence(reference)\n",
        "    translation_tokens = tokenize_sentence(translation)\n",
        "\n",
        "    score = calculate_meteor_score(reference_tokens, translation_tokens)\n",
        "    print(\"METEOR Score:\", score)\n",
        "\n",
        "if __name__ == \"__main__\":\n",
        "    main()\n"
      ],
      "metadata": {
        "colab": {
          "base_uri": "https://localhost:8080/"
        },
        "id": "09FAO_DwnRGJ",
        "outputId": "6d7b7951-c895-4b3a-9d84-ffe6bb4c3b36"
      },
      "execution_count": null,
      "outputs": [
        {
          "output_type": "stream",
          "name": "stderr",
          "text": [
            "[nltk_data] Downloading package wordnet to /root/nltk_data...\n",
            "[nltk_data]   Package wordnet is already up-to-date!\n",
            "[nltk_data] Downloading package punkt to /root/nltk_data...\n",
            "[nltk_data]   Package punkt is already up-to-date!\n"
          ]
        },
        {
          "output_type": "stream",
          "name": "stdout",
          "text": [
            "Enter the reference sentence: Die Maschine darf nur mit geeigneten Vorrichtungen, die den geltenden Vorschriften zur Arbeitssicherhelt entsprechen, angehoben werden. Lockere oder drehbare Telle müssen vor dem Anheben sicher befestigt werden. Der Aufenthalt im Gefahrenbereich unter einer angehobenen Last ist strengstens verboten. Beschleunigungs- und Bremsvorgänge belm Heben müssen Innerhalb sicherer Grenzen erfolgen. Bel Arbeiten unter angehobener Ausrüstung oder in der Nähe von Hebevorrichtungen ist ein Schutzheim zu tragen. Die Einheit ist für die Verwendung Innerhalb von Gebäuden ausgelegt. Wenn die Einheit Im Frelen aufgestellt wird, müssen spezielle Vorkehrungen getroffen werden. Bel Bedarf an den Lieferanten wenden.\n",
            "Enter the translated sentence: Anweisungsbuch • Falls das Gerät ein Kompressor ist, legen Sie die Maschine an, wo die Umgebungsluft so kühl und sauber wie möglich ist. Falls erforderlich, Installieren Sie einen Absaugkanal. Behindem Sie nicht den Lufteinlass. Es muss darauf geachtet werden, dass der Eintritt von Feuchtigkeit in die Zuluft minimiert wird. • Vor dem Verbinden der Rohre müssen alle Austastflansche, Stopfen, Kappen und Trockenkoffer entfernt werden. • Luftschläuche müssen von der richtigen Größe sein und für den Arbeitsdruck geeignet sein. Verwenden Sie keine ausgefransten, beschädigten oder verschilssenen Schläuche. Vertellungsrohre und - verbindungen müssen von der richtigen Größe sein und für den Arbeitsdruck geeignet sein.\n",
            "METEOR Score: 0.19118606024477414\n"
          ]
        }
      ]
    },
    {
      "cell_type": "markdown",
      "source": [
        "*One whole Page input*"
      ],
      "metadata": {
        "id": "VhdWc2O5owKL"
      }
    },
    {
      "cell_type": "code",
      "source": [
        "import nltk\n",
        "from nltk.translate.meteor_score import meteor_score\n",
        "\n",
        "# Download required resources for NLTK\n",
        "nltk.download('wordnet')\n",
        "nltk.download('punkt')\n",
        "\n",
        "def calculate_meteor_score(reference, translation):\n",
        "    return meteor_score([reference], translation)\n",
        "\n",
        "def tokenize_sentence(sentence):\n",
        "    return nltk.word_tokenize(sentence)\n",
        "\n",
        "def main():\n",
        "    reference = input(\"Enter the reference sentence: \")\n",
        "    translation = input(\"Enter the translated sentence: \")\n",
        "\n",
        "    reference_tokens = tokenize_sentence(reference)\n",
        "    translation_tokens = tokenize_sentence(translation)\n",
        "\n",
        "    score = calculate_meteor_score(reference_tokens, translation_tokens)\n",
        "    print(\"METEOR Score:\", score)\n",
        "\n",
        "if __name__ == \"__main__\":\n",
        "    main()\n"
      ],
      "metadata": {
        "colab": {
          "base_uri": "https://localhost:8080/"
        },
        "id": "AFJ7vxhxoMFt",
        "outputId": "be7e6b68-5126-4ef6-dcae-7fe6279247f4"
      },
      "execution_count": null,
      "outputs": [
        {
          "output_type": "stream",
          "name": "stderr",
          "text": [
            "[nltk_data] Downloading package wordnet to /root/nltk_data...\n",
            "[nltk_data]   Package wordnet is already up-to-date!\n",
            "[nltk_data] Downloading package punkt to /root/nltk_data...\n",
            "[nltk_data]   Package punkt is already up-to-date!\n"
          ]
        },
        {
          "output_type": "stream",
          "name": "stdout",
          "text": [
            "Enter the reference sentence:  Bedienungsanleitung Die Maschine darf nur mit geeigneten Vorrichtungen, die den geltenden Vorschriften zur Arbeitssicherhelt entsprechen, angehoben werden. Lockere oder drehbare Telle müssen vor dem Anheben sicher befestigt werden. Der Aufenthalt im Gefahrenbereich unter einer angehobenen Last ist strengstens verboten. Beschleunigungs- und Bremsvorgänge belm Heben müssen Innerhalb sicherer Grenzen erfolgen. Bel Arbeiten unter angehobener Ausrüstung oder in der Nähe von Hebevorrichtungen ist ein Schutzheim zu tragen. Die Einheit ist für die Verwendung Innerhalb von Gebäuden ausgelegt. Wenn die Einheit Im Frelen aufgestellt wird, müssen spezielle Vorkehrungen getroffen werden. Bel Bedarf an den Lieferanten wenden. Für den Fall, dass das Gerät ein Kompressor ist, muss der Standort der Maschine so gewählt werden, dass die Umgebungsluft möglichst kühl und sauber ist. Gegebenenfalls einen Ansaugkanal Installieren. Den Lufteinlass nicht blockieren. Die Aufnahme von Feuchtigkeit mit der Ansaugluft ist so welt wie möglich zu minimieren. Vor dem Anschluss der Rohrleitungen alle Blindflansche, Stopfen, Kappen und Trockenmittelbeutel entfernen. Luftschläuche der korrekten Größe sind dem Betriebsdruck entsprechend zu wählen. Keine durchgescheuerten, beschädigten oder abgenutzten Schläuche verwenden. Vertellerrohre und -verbindungen der korrekten Größe sind dem Betriebsdruck entsprechend zu wählen. Für den Fall, dass das Gerät ein Kompressor ist, darf die Ansaugluft keine entflammbaren Rauchgase, Dämpfe oder Partikel, wie z. B. Lösungsmittel, enthalten, die sich innerhalb des Geräts entzünden oder explodieren können. Für den Fall, dass das Gerät ein Kompressor ist, ist der Lufteinlass so anzuordnen, dass locker sitzende Kleidung von Personen nicht angesaugt werden kann. Es muss sichergestellt werden, dass sich das Auslassrohr des Kompressors bel Wärme zum Nachkühler oder zum Luftnetz ausdehnen kann und dass es nicht an oder in der Nähe von brennbarem Material liegt. Auf das Luftauslassventil darf keine äußere Kraft einwirken; das angeschlossene Rohr muss belastungsfrei sein. Wenn eine Femsteuerung Installiert ist, muss an der Maschine ein deutlich sichtbares Schild mit der folgenden Aufschrift angebracht werden: ! GEFAHR Diese Maschine Ist ferngesteuert und kann ohne Vorwarnung anlaufen. Das Bedienungspersonal muss sicherstellen, dass die Maschine gestoppt und drucklos ist und der elektrische Trennschutzschalter geöffnet, verriegelt und mit einer temporären Warnung versehen ist, bevor jegliche Wartungs- oder Reparaturarbeiten durchgeführt werden können. Belm Ein- und Ausschalten ferngesteuerter Maschinen ist durch geeignete Vorsichtsmaßnahmen sicherzustellen, dass zu diesem Zeitpunkt keine Kontrollen oder Arbeiten an der Maschine durchgeführt werden. Dazu Ist ein entsprechender Hinweis an der Starteinrichtung anzubringen. Luftgekühite Maschinen sind so zu installieren, dass eine ausreichende Kühlluftzufuhr gewährleistet ist und die Auslassluft nicht zum Kompressorlufteinlass oder zum Kühllufteinlass zurückströmt. Die elektrischen Verbindungen müssen den geltenden Vorschriften entsprechen. Die Maschinen müssen geerdet und durch Sicherungen in allen Phasen gegen Kurzschlüsse abgesichert sein. In unmittelbarer Nähe des Kompressors muss ein arretierbarer Trennschutzschalter Installiert werden.\n",
            "Enter the translated sentence: Anweisungsbuch • Falls das Gerät ein Kompressor ist, legen Sie die Maschine an, wo die Umgebungsluft so kühl und sauber wie möglich ist. Falls erforderlich, Installieren Sie einen Absaugkanal. Behindem Sie nicht den Lufteinlass. Es muss darauf geachtet werden, dass der Eintritt von Feuchtigkeit in die Zuluft minimiert wird. • Vor dem Verbinden der Rohre müssen alle Austastflansche, Stopfen, Kappen und Trockenkoffer entfernt werden. • Luftschläuche müssen von der richtigen Größe sein und für den Arbeitsdruck geeignet sein. Verwenden Sie keine ausgefransten, beschädigten oder verschilssenen Schläuche. Vertellungsrohre und - verbindungen müssen von der richtigen Größe sein und für den Arbeitsdruck geeignet sein. • Falls es sich bel der Vorrichtung um einen Kompressor handelt, muss die angesaugte Luftfrel von brennbaren Dämpfen, Dämpfen und Partikeln sein, zum Beispiel von Lackiosemitteln, die zu einem Inneren Brand oder einer Explosion führen können. Falls das Gerät ein Kompressor ist, ordnen Sie die Luftzufuhr so an, dass lose Kleidung, die von Menschen getragen wird, nicht eingezeichnet werden kann. • Stellen Sie sicher, dass das Abflussrohr vom Kompressor zum Nachkühler oder zum Luftnetz frel ist, unter Hitze zu expandieren, und dass es nicht mit brennbaren Materialien In Kontakt kommt oder in der Nähe ist. Auf das Luftauslaßventil kann keine äußere Kraft ausgeübt werden; das angeschlossene Rohr muß frel von Dehnung sein. • Wenn die Femsteuerung Installiert ist, muss die Maschine ein klares Zeichen setzen: GEFAHR ! Diese Maschine Ist ferngesteuert und kann ohne Vorwarnung starten. Der Bediener muss sicherstellen, dass die Maschine gestoppt und entspannt wird und dass der elektrische Trennschalter geöffnet, verriegelt und mit einer temporären Warnung vor Wartungsarbeiten oder Reparaturen versehen ist. Als weiterer Schutz müssen Personen, die ferngesteuerte Maschinen ein-oder ausschalten, angemessene Vorkehrungen treffen, um sicherzustellen, dass keine Überprüfung oder Arbelt an der Maschine erfolgt. Zu diesem Zweck ist an der Startausrüstung eine geeignete Bekanntmachung anzubringen. Luftgekühlte Maschinen müssen so Installiert werden, dass ein ausreichender Kühlluftstrom zur Verfügung steht und die verbrauchten Luft nicht zum Verdichterlufteinlass oder Kühllufteinlass rezirkullert. • Die elektrischen Anschlüsse müssen den entsprechenden Codes entsprechen. Die Maschinen müssen durch Sicherungen in allen Phasen geerdet und vor Kurzschlüssen geschützt werden. In der Nähe des Kompressors muss ein abschließbarer Leistungsschalter eingebaut werden. • Bel Maschinen mit automatischem Start-Stopp-System oder bel Aktivierung der automatischen Neustartfunktion nach dem Spannungsausfall muss in der Nähe der Instrumententafel ein Schild mit der Angabe \"Diese Maschine kann ohne Wamung starten angebracht werden. • In mehreren Verdichtersystemen müssen manuelle Ventile Installiert werden, um Jeden Kompressor zu Isolieren. Rückschlagventile (Rückschlagventile) dürfen nicht zum Isolieren von Drucksystemen verwendet werden. Entfernen Sie die Sicherheitseinrichtungen , die Schutzeinrichtungen oder die Isolierung, die auf der Maschine angebracht sind, nicht aus oder manipulieren Sie sie. Jedes außerhalb der Maschine Installierte Druckgefaß oder Zusatzgerät, um Luft über dem Atmosphärendruck zu halten, muss bel Bedarf durch eine Druckentlastungseinrichtung oder -einrichtungen geschützt werden.. Rohrleitungen oder andere Telle mit einer Temperatur von über 70 C (158°F), die Im Normalbetrieb versehentlich von Personal berührt werden können, müssen bewacht oder Isollert sein. Andere Hochtemperatur-Rohrleitungen müssen deutlich gekennzeichnet sein. • Wenn der Boden nicht oder variabel genelgt sein kann, wenden Sie sich an den Hersteller. . Wenn das Gerät ein Trockner ist und kein freies Löschsystem im Luftnetz in der Nähe des Trockners vorhanden ist, müssen Sicherheitsventile in den Behältern des Trockners Installiert werden. • Bel einer Installation mit mehreren Kompressoren muss die Auslassleitung in einer solchen Welse Installiert werden dass Kondensat nicht wieder in den Verdichter zurückfließen kann. Siehe Abschnitt Installationsvorschlag.\n",
            "METEOR Score: 0.3811849700427795\n"
          ]
        }
      ]
    },
    {
      "cell_type": "markdown",
      "source": [
        "**WORD ERROR RATE**"
      ],
      "metadata": {
        "id": "XKuPWqqIo5KN"
      }
    },
    {
      "cell_type": "markdown",
      "source": [
        "*3 line input*"
      ],
      "metadata": {
        "id": "fhO1uQXgp3fx"
      }
    },
    {
      "cell_type": "code",
      "source": [
        "def wer(reference, hypothesis):\n",
        "    # Tokenization\n",
        "    ref_words = reference.split()\n",
        "    hyp_words = hypothesis.split()\n",
        "\n",
        "    # Initialize matrices for dynamic programming\n",
        "    dp = [[0] * (len(hyp_words) + 1) for _ in range(len(ref_words) + 1)]\n",
        "\n",
        "    # Initialize first row and column\n",
        "    for i in range(len(ref_words) + 1):\n",
        "        dp[i][0] = i\n",
        "    for j in range(len(hyp_words) + 1):\n",
        "        dp[0][j] = j\n",
        "\n",
        "    # Dynamic programming to compute edit distance\n",
        "    for i in range(1, len(ref_words) + 1):\n",
        "        for j in range(1, len(hyp_words) + 1):\n",
        "            if ref_words[i - 1] == hyp_words[j - 1]:\n",
        "                dp[i][j] = dp[i - 1][j - 1]\n",
        "            else:\n",
        "                dp[i][j] = min(dp[i - 1][j - 1], dp[i][j - 1], dp[i - 1][j]) + 1\n",
        "\n",
        "    # Calculate substitutions, deletions, and insertions\n",
        "    substitutions = dp[len(ref_words)][len(hyp_words)]\n",
        "    deletions = len(ref_words) - substitutions\n",
        "    insertions = len(hyp_words) - substitutions\n",
        "\n",
        "    # Calculate WER\n",
        "    wer = (substitutions + deletions + insertions) / len(ref_words) * 100\n",
        "    return wer\n",
        "\n",
        "# User input\n",
        "reference_text = input(\"Enter the reference text: \").strip().lower()\n",
        "hypothesis_text = input(\"Enter the hypothesis text: \").strip().lower()\n",
        "\n",
        "# Calculate and print WER\n",
        "wer_score = wer(reference_text, hypothesis_text)\n",
        "print(\"Word Error Rate (WER): {:.2f}%\".format(wer_score))\n"
      ],
      "metadata": {
        "colab": {
          "base_uri": "https://localhost:8080/"
        },
        "id": "mYK1ltQto81J",
        "outputId": "5ab3cf04-cde4-4e4f-8429-ebb0cda63dcf"
      },
      "execution_count": null,
      "outputs": [
        {
          "output_type": "stream",
          "name": "stdout",
          "text": [
            "Enter the reference text: Die Maschine darf nur mit geeigneten Vorrichtungen, die den geltenden Vorschriften zur Arbeitssicherhelt entsprechen, angehoben werden. Lockere oder drehbare Telle müssen vor dem Anheben sicher befestigt werden.\n",
            "Enter the hypothesis text: Falls das Gerät ein Kompressor ist, legen Sie die Maschine an, wo die Umgebungsluft so kühl und sauber wie möglich ist.\n",
            "Word Error Rate (WER): 77.78%\n"
          ]
        }
      ]
    },
    {
      "cell_type": "markdown",
      "source": [
        "*10-15 lines input*"
      ],
      "metadata": {
        "id": "3DvuCn5rp7xg"
      }
    },
    {
      "cell_type": "code",
      "source": [
        "def wer(reference, hypothesis):\n",
        "    # Tokenization\n",
        "    ref_words = reference.split()\n",
        "    hyp_words = hypothesis.split()\n",
        "\n",
        "    # Initialize matrices for dynamic programming\n",
        "    dp = [[0] * (len(hyp_words) + 1) for _ in range(len(ref_words) + 1)]\n",
        "\n",
        "    # Initialize first row and column\n",
        "    for i in range(len(ref_words) + 1):\n",
        "        dp[i][0] = i\n",
        "    for j in range(len(hyp_words) + 1):\n",
        "        dp[0][j] = j\n",
        "\n",
        "    # Dynamic programming to compute edit distance\n",
        "    for i in range(1, len(ref_words) + 1):\n",
        "        for j in range(1, len(hyp_words) + 1):\n",
        "            if ref_words[i - 1] == hyp_words[j - 1]:\n",
        "                dp[i][j] = dp[i - 1][j - 1]\n",
        "            else:\n",
        "                dp[i][j] = min(dp[i - 1][j - 1], dp[i][j - 1], dp[i - 1][j]) + 1\n",
        "\n",
        "    # Calculate substitutions, deletions, and insertions\n",
        "    substitutions = dp[len(ref_words)][len(hyp_words)]\n",
        "    deletions = len(ref_words) - substitutions\n",
        "    insertions = len(hyp_words) - substitutions\n",
        "\n",
        "    # Calculate WER\n",
        "    wer = (substitutions + deletions + insertions) / len(ref_words) * 100\n",
        "    return wer\n",
        "\n",
        "# User input\n",
        "reference_text = input(\"Enter the reference text: \").strip().lower()\n",
        "hypothesis_text = input(\"Enter the hypothesis text: \").strip().lower()\n",
        "\n",
        "# Calculate and print WER\n",
        "wer_score = wer(reference_text, hypothesis_text)\n",
        "print(\"Word Error Rate (WER): {:.2f}%\".format(wer_score))\n"
      ],
      "metadata": {
        "colab": {
          "base_uri": "https://localhost:8080/"
        },
        "id": "33ZBo3lSpIEt",
        "outputId": "00bdfac5-dd80-4e61-b87c-0bd6474b4fe3"
      },
      "execution_count": null,
      "outputs": [
        {
          "output_type": "stream",
          "name": "stdout",
          "text": [
            "Enter the reference text: Die Maschine darf nur mit geeigneten Vorrichtungen, die den geltenden Vorschriften zur Arbeitssicherhelt entsprechen, angehoben werden. Lockere oder drehbare Telle müssen vor dem Anheben sicher befestigt werden. Der Aufenthalt im Gefahrenbereich unter einer angehobenen Last ist strengstens verboten. Beschleunigungs- und Bremsvorgänge belm Heben müssen Innerhalb sicherer Grenzen erfolgen. Bel Arbeiten unter angehobener Ausrüstung oder in der Nähe von Hebevorrichtungen ist ein Schutzheim zu tragen. Die Einheit ist für die Verwendung Innerhalb von Gebäuden ausgelegt. Wenn die Einheit Im Frelen aufgestellt wird, müssen spezielle Vorkehrungen getroffen werden. Bel Bedarf an den Lieferanten wenden.\n",
            "Enter the hypothesis text: Anweisungsbuch • Falls das Gerät ein Kompressor ist, legen Sie die Maschine an, wo die Umgebungsluft so kühl und sauber wie möglich ist. Falls erforderlich, Installieren Sie einen Absaugkanal. Behindem Sie nicht den Lufteinlass. Es muss darauf geachtet werden, dass der Eintritt von Feuchtigkeit in die Zuluft minimiert wird. • Vor dem Verbinden der Rohre müssen alle Austastflansche, Stopfen, Kappen und Trockenkoffer entfernt werden. • Luftschläuche müssen von der richtigen Größe sein und für den Arbeitsdruck geeignet sein. Verwenden Sie keine ausgefransten, beschädigten oder verschilssenen Schläuche. Vertellungsrohre und - verbindungen müssen von der richtigen Größe sein und für den Arbeitsdruck geeignet sein.\n",
            "Word Error Rate (WER): 104.35%\n"
          ]
        }
      ]
    },
    {
      "cell_type": "markdown",
      "source": [
        "*One whole page input*"
      ],
      "metadata": {
        "id": "1RIKtggkp_V5"
      }
    },
    {
      "cell_type": "code",
      "source": [
        "def wer(reference, hypothesis):\n",
        "    # Tokenization\n",
        "    ref_words = reference.split()\n",
        "    hyp_words = hypothesis.split()\n",
        "\n",
        "    # Initialize matrices for dynamic programming\n",
        "    dp = [[0] * (len(hyp_words) + 1) for _ in range(len(ref_words) + 1)]\n",
        "\n",
        "    # Initialize first row and column\n",
        "    for i in range(len(ref_words) + 1):\n",
        "        dp[i][0] = i\n",
        "    for j in range(len(hyp_words) + 1):\n",
        "        dp[0][j] = j\n",
        "\n",
        "    # Dynamic programming to compute edit distance\n",
        "    for i in range(1, len(ref_words) + 1):\n",
        "        for j in range(1, len(hyp_words) + 1):\n",
        "            if ref_words[i - 1] == hyp_words[j - 1]:\n",
        "                dp[i][j] = dp[i - 1][j - 1]\n",
        "            else:\n",
        "                dp[i][j] = min(dp[i - 1][j - 1], dp[i][j - 1], dp[i - 1][j]) + 1\n",
        "\n",
        "    # Calculate substitutions, deletions, and insertions\n",
        "    substitutions = dp[len(ref_words)][len(hyp_words)]\n",
        "    deletions = len(ref_words) - substitutions\n",
        "    insertions = len(hyp_words) - substitutions\n",
        "\n",
        "    # Calculate WER\n",
        "    wer = (substitutions + deletions + insertions) / len(ref_words) * 100\n",
        "    return wer\n",
        "\n",
        "# User input\n",
        "reference_text = input(\"Enter the reference text: \").strip().lower()\n",
        "hypothesis_text = input(\"Enter the hypothesis text: \").strip().lower()\n",
        "\n",
        "# Calculate and print WER\n",
        "wer_score = wer(reference_text, hypothesis_text)\n",
        "print(\"Word Error Rate (WER): {:.2f}%\".format(wer_score))\n"
      ],
      "metadata": {
        "colab": {
          "base_uri": "https://localhost:8080/"
        },
        "id": "oCEWbFyPpV5n",
        "outputId": "220e14e5-9b04-48c0-a2ee-15ee8ebcd6eb"
      },
      "execution_count": null,
      "outputs": [
        {
          "output_type": "stream",
          "name": "stdout",
          "text": [
            "Enter the reference text: Bedienungsanleitung Die Maschine darf nur mit geeigneten Vorrichtungen, die den geltenden Vorschriften zur Arbeitssicherhelt entsprechen, angehoben werden. Lockere oder drehbare Telle müssen vor dem Anheben sicher befestigt werden. Der Aufenthalt im Gefahrenbereich unter einer angehobenen Last ist strengstens verboten. Beschleunigungs- und Bremsvorgänge belm Heben müssen Innerhalb sicherer Grenzen erfolgen. Bel Arbeiten unter angehobener Ausrüstung oder in der Nähe von Hebevorrichtungen ist ein Schutzheim zu tragen. Die Einheit ist für die Verwendung Innerhalb von Gebäuden ausgelegt. Wenn die Einheit Im Frelen aufgestellt wird, müssen spezielle Vorkehrungen getroffen werden. Bel Bedarf an den Lieferanten wenden. Für den Fall, dass das Gerät ein Kompressor ist, muss der Standort der Maschine so gewählt werden, dass die Umgebungsluft möglichst kühl und sauber ist. Gegebenenfalls einen Ansaugkanal Installieren. Den Lufteinlass nicht blockieren. Die Aufnahme von Feuchtigkeit mit der Ansaugluft ist so welt wie möglich zu minimieren. Vor dem Anschluss der Rohrleitungen alle Blindflansche, Stopfen, Kappen und Trockenmittelbeutel entfernen. Luftschläuche der korrekten Größe sind dem Betriebsdruck entsprechend zu wählen. Keine durchgescheuerten, beschädigten oder abgenutzten Schläuche verwenden. Vertellerrohre und -verbindungen der korrekten Größe sind dem Betriebsdruck entsprechend zu wählen. Für den Fall, dass das Gerät ein Kompressor ist, darf die Ansaugluft keine entflammbaren Rauchgase, Dämpfe oder Partikel, wie z. B. Lösungsmittel, enthalten, die sich innerhalb des Geräts entzünden oder explodieren können. Für den Fall, dass das Gerät ein Kompressor ist, ist der Lufteinlass so anzuordnen, dass locker sitzende Kleidung von Personen nicht angesaugt werden kann. Es muss sichergestellt werden, dass sich das Auslassrohr des Kompressors bel Wärme zum Nachkühler oder zum Luftnetz ausdehnen kann und dass es nicht an oder in der Nähe von brennbarem Material liegt. Auf das Luftauslassventil darf keine äußere Kraft einwirken; das angeschlossene Rohr muss belastungsfrei sein. Wenn eine Femsteuerung Installiert ist, muss an der Maschine ein deutlich sichtbares Schild mit der folgenden Aufschrift angebracht werden: ! GEFAHR Diese Maschine Ist ferngesteuert und kann ohne Vorwarnung anlaufen. Das Bedienungspersonal muss sicherstellen, dass die Maschine gestoppt und drucklos ist und der elektrische Trennschutzschalter geöffnet, verriegelt und mit einer temporären Warnung versehen ist, bevor jegliche Wartungs- oder Reparaturarbeiten durchgeführt werden können. Belm Ein- und Ausschalten ferngesteuerter Maschinen ist durch geeignete Vorsichtsmaßnahmen sicherzustellen, dass zu diesem Zeitpunkt keine Kontrollen oder Arbeiten an der Maschine durchgeführt werden. Dazu Ist ein entsprechender Hinweis an der Starteinrichtung anzubringen. Luftgekühite Maschinen sind so zu installieren, dass eine ausreichende Kühlluftzufuhr gewährleistet ist und die Auslassluft nicht zum Kompressorlufteinlass oder zum Kühllufteinlass zurückströmt. Die elektrischen Verbindungen müssen den geltenden Vorschriften entsprechen. Die Maschinen müssen geerdet und durch Sicherungen in allen Phasen gegen Kurzschlüsse abgesichert sein. In unmittelbarer Nähe des Kompressors muss ein arretierbarer Trennschutzschalter Installiert werden.\n",
            "Enter the hypothesis text: Anweisungsbuch • Falls das Gerät ein Kompressor ist, legen Sie die Maschine an, wo die Umgebungsluft so kühl und sauber wie möglich ist. Falls erforderlich, Installieren Sie einen Absaugkanal. Behindem Sie nicht den Lufteinlass. Es muss darauf geachtet werden, dass der Eintritt von Feuchtigkeit in die Zuluft minimiert wird. • Vor dem Verbinden der Rohre müssen alle Austastflansche, Stopfen, Kappen und Trockenkoffer entfernt werden. • Luftschläuche müssen von der richtigen Größe sein und für den Arbeitsdruck geeignet sein. Verwenden Sie keine ausgefransten, beschädigten oder verschilssenen Schläuche. Vertellungsrohre und - verbindungen müssen von der richtigen Größe sein und für den Arbeitsdruck geeignet sein. • Falls es sich bel der Vorrichtung um einen Kompressor handelt, muss die angesaugte Luftfrel von brennbaren Dämpfen, Dämpfen und Partikeln sein, zum Beispiel von Lackiosemitteln, die zu einem Inneren Brand oder einer Explosion führen können. Falls das Gerät ein Kompressor ist, ordnen Sie die Luftzufuhr so an, dass lose Kleidung, die von Menschen getragen wird, nicht eingezeichnet werden kann. • Stellen Sie sicher, dass das Abflussrohr vom Kompressor zum Nachkühler oder zum Luftnetz frel ist, unter Hitze zu expandieren, und dass es nicht mit brennbaren Materialien In Kontakt kommt oder in der Nähe ist. Auf das Luftauslaßventil kann keine äußere Kraft ausgeübt werden; das angeschlossene Rohr muß frel von Dehnung sein. • Wenn die Femsteuerung Installiert ist, muss die Maschine ein klares Zeichen setzen: GEFAHR ! Diese Maschine Ist ferngesteuert und kann ohne Vorwarnung starten. Der Bediener muss sicherstellen, dass die Maschine gestoppt und entspannt wird und dass der elektrische Trennschalter geöffnet, verriegelt und mit einer temporären Warnung vor Wartungsarbeiten oder Reparaturen versehen ist. Als weiterer Schutz müssen Personen, die ferngesteuerte Maschinen ein-oder ausschalten, angemessene Vorkehrungen treffen, um sicherzustellen, dass keine Überprüfung oder Arbelt an der Maschine erfolgt. Zu diesem Zweck ist an der Startausrüstung eine geeignete Bekanntmachung anzubringen. Luftgekühlte Maschinen müssen so Installiert werden, dass ein ausreichender Kühlluftstrom zur Verfügung steht und die verbrauchten Luft nicht zum Verdichterlufteinlass oder Kühllufteinlass rezirkullert. • Die elektrischen Anschlüsse müssen den entsprechenden Codes entsprechen. Die Maschinen müssen durch Sicherungen in allen Phasen geerdet und vor Kurzschlüssen geschützt werden. In der Nähe des Kompressors muss ein abschließbarer Leistungsschalter eingebaut werden. • Bel Maschinen mit automatischem Start-Stopp-System oder bel Aktivierung der automatischen Neustartfunktion nach dem Spannungsausfall muss in der Nähe der Instrumententafel ein Schild mit der Angabe \"Diese Maschine kann ohne Wamung starten angebracht werden. • In mehreren Verdichtersystemen müssen manuelle Ventile Installiert werden, um Jeden Kompressor zu Isolieren. Rückschlagventile (Rückschlagventile) dürfen nicht zum Isolieren von Drucksystemen verwendet werden. Entfernen Sie die Sicherheitseinrichtungen , die Schutzeinrichtungen oder die Isolierung, die auf der Maschine angebracht sind, nicht aus oder manipulieren Sie sie. Jedes außerhalb der Maschine Installierte Druckgefaß oder Zusatzgerät, um Luft über dem Atmosphärendruck zu halten, muss bel Bedarf durch eine Druckentlastungseinrichtung oder -einrichtungen geschützt werden.. Rohrleitungen oder andere Telle mit einer Temperatur von über 70 C (158°F), die Im Normalbetrieb versehentlich von Personal berührt werden können, müssen bewacht oder Isollert sein. Andere Hochtemperatur-Rohrleitungen müssen deutlich gekennzeichnet sein. • Wenn der Boden nicht oder variabel genelgt sein kann, wenden Sie sich an den Hersteller. . Wenn das Gerät ein Trockner ist und kein freies Löschsystem im Luftnetz in der Nähe des Trockners vorhanden ist, müssen Sicherheitsventile in den Behältern des Trockners Installiert werden. • Bel einer Installation mit mehreren Kompressoren muss die Auslassleitung in einer solchen Welse Installiert werden dass Kondensat nicht wieder in den Verdichter zurückfließen kann. Siehe Abschnitt Installationsvorschlag.\n",
            "Word Error Rate (WER): 110.85%\n"
          ]
        }
      ]
    },
    {
      "cell_type": "markdown",
      "source": [
        "**CHAR F-SCORE**"
      ],
      "metadata": {
        "id": "ph82d5-8qFbg"
      }
    },
    {
      "cell_type": "markdown",
      "source": [
        "*3 line input*"
      ],
      "metadata": {
        "id": "X0Qt-RPbqLII"
      }
    },
    {
      "cell_type": "code",
      "source": [
        "def char_precision_recall_fscore(ground_truth, predicted):\n",
        "    true_positives = sum(1 for c in predicted if c in ground_truth)\n",
        "    false_positives = sum(1 for c in predicted if c not in ground_truth)\n",
        "    false_negatives = sum(1 for c in ground_truth if c not in predicted)\n",
        "\n",
        "    precision = true_positives / (true_positives + false_positives) if true_positives + false_positives > 0 else 0\n",
        "    recall = true_positives / (true_positives + false_negatives) if true_positives + false_negatives > 0 else 0\n",
        "\n",
        "    # Calculate F-score with beta=1 (harmonic mean of precision and recall)\n",
        "    fscore = (2 * precision * recall) / (precision + recall) if precision + recall > 0 else 0\n",
        "\n",
        "    return precision, recall, fscore\n",
        "\n",
        "def main():\n",
        "    ground_truth = input(\"Enter ground truth string: \").strip()\n",
        "    predicted = input(\"Enter predicted string: \").strip()\n",
        "\n",
        "    precision, recall, fscore = char_precision_recall_fscore(ground_truth, predicted)\n",
        "\n",
        "    print(\"Precision:\", precision)\n",
        "    print(\"Recall:\", recall)\n",
        "    print(\"F-score:\", fscore)\n",
        "\n",
        "if __name__ == \"__main__\":\n",
        "    main()\n"
      ],
      "metadata": {
        "colab": {
          "base_uri": "https://localhost:8080/"
        },
        "id": "qtFJiYUvqKDJ",
        "outputId": "aed096e3-f45f-4488-cebe-300637acccfa"
      },
      "execution_count": null,
      "outputs": [
        {
          "output_type": "stream",
          "name": "stdout",
          "text": [
            "Enter ground truth string: Die Maschine darf nur mit geeigneten Vorrichtungen, die den geltenden Vorschriften zur Arbeitssicherhelt entsprechen, angehoben werden. Lockere oder drehbare Telle müssen vor dem Anheben sicher befestigt werden.\n",
            "Enter predicted string: Falls das Gerät ein Kompressor ist, legen Sie die Maschine an, wo die Umgebungsluft so kühl und sauber wie möglich ist.\n",
            "Precision: 0.9411764705882353\n",
            "Recall: 0.9256198347107438\n",
            "F-score: 0.9333333333333333\n"
          ]
        }
      ]
    },
    {
      "cell_type": "markdown",
      "source": [
        "*10-15 lines input*"
      ],
      "metadata": {
        "id": "jhKm7FKSqTw8"
      }
    },
    {
      "cell_type": "code",
      "source": [
        "def char_precision_recall_fscore(ground_truth, predicted):\n",
        "    true_positives = sum(1 for c in predicted if c in ground_truth)\n",
        "    false_positives = sum(1 for c in predicted if c not in ground_truth)\n",
        "    false_negatives = sum(1 for c in ground_truth if c not in predicted)\n",
        "\n",
        "    precision = true_positives / (true_positives + false_positives) if true_positives + false_positives > 0 else 0\n",
        "    recall = true_positives / (true_positives + false_negatives) if true_positives + false_negatives > 0 else 0\n",
        "\n",
        "    # Calculate F-score with beta=1 (harmonic mean of precision and recall)\n",
        "    fscore = (2 * precision * recall) / (precision + recall) if precision + recall > 0 else 0\n",
        "\n",
        "    return precision, recall, fscore\n",
        "\n",
        "def main():\n",
        "    ground_truth = input(\"Enter ground truth string: \").strip()\n",
        "    predicted = input(\"Enter predicted string: \").strip()\n",
        "\n",
        "    precision, recall, fscore = char_precision_recall_fscore(ground_truth, predicted)\n",
        "\n",
        "    print(\"Precision:\", precision)\n",
        "    print(\"Recall:\", recall)\n",
        "    print(\"F-score:\", fscore)\n",
        "\n",
        "if __name__ == \"__main__\":\n",
        "    main()\n"
      ],
      "metadata": {
        "colab": {
          "base_uri": "https://localhost:8080/"
        },
        "id": "-GQA2Ri7qWwL",
        "outputId": "c4845d3b-240c-4383-d7f2-dc25966329dc"
      },
      "execution_count": null,
      "outputs": [
        {
          "output_type": "stream",
          "name": "stdout",
          "text": [
            "Enter ground truth string: Die Maschine darf nur mit geeigneten Vorrichtungen, die den geltenden Vorschriften zur Arbeitssicherhelt entsprechen, angehoben werden. Lockere oder drehbare Telle müssen vor dem Anheben sicher befestigt werden. Der Aufenthalt im Gefahrenbereich unter einer angehobenen Last ist strengstens verboten. Beschleunigungs- und Bremsvorgänge belm Heben müssen Innerhalb sicherer Grenzen erfolgen. Bel Arbeiten unter angehobener Ausrüstung oder in der Nähe von Hebevorrichtungen ist ein Schutzheim zu tragen. Die Einheit ist für die Verwendung Innerhalb von Gebäuden ausgelegt. Wenn die Einheit Im Frelen aufgestellt wird, müssen spezielle Vorkehrungen getroffen werden. Bel Bedarf an den Lieferanten wenden.\n",
            "Enter predicted string: Anweisungsbuch • Falls das Gerät ein Kompressor ist, legen Sie die Maschine an, wo die Umgebungsluft so kühl und sauber wie möglich ist. Falls erforderlich, Installieren Sie einen Absaugkanal. Behindem Sie nicht den Lufteinlass. Es muss darauf geachtet werden, dass der Eintritt von Feuchtigkeit in die Zuluft minimiert wird. • Vor dem Verbinden der Rohre müssen alle Austastflansche, Stopfen, Kappen und Trockenkoffer entfernt werden. • Luftschläuche müssen von der richtigen Größe sein und für den Arbeitsdruck geeignet sein. Verwenden Sie keine ausgefransten, beschädigten oder verschilssenen Schläuche. Vertellungsrohre und - verbindungen müssen von der richtigen Größe sein und für den Arbeitsdruck geeignet sein.\n",
            "Precision: 0.9818941504178273\n",
            "Recall: 0.9832635983263598\n",
            "F-score: 0.9825783972125435\n"
          ]
        }
      ]
    },
    {
      "cell_type": "markdown",
      "source": [
        "*One whole Page Input*"
      ],
      "metadata": {
        "id": "jxWXh0AiqYDI"
      }
    },
    {
      "cell_type": "code",
      "source": [
        "def char_precision_recall_fscore(ground_truth, predicted):\n",
        "    true_positives = sum(1 for c in predicted if c in ground_truth)\n",
        "    false_positives = sum(1 for c in predicted if c not in ground_truth)\n",
        "    false_negatives = sum(1 for c in ground_truth if c not in predicted)\n",
        "\n",
        "    precision = true_positives / (true_positives + false_positives) if true_positives + false_positives > 0 else 0\n",
        "    recall = true_positives / (true_positives + false_negatives) if true_positives + false_negatives > 0 else 0\n",
        "\n",
        "    # Calculate F-score with beta=1 (harmonic mean of precision and recall)\n",
        "    fscore = (2 * precision * recall) / (precision + recall) if precision + recall > 0 else 0\n",
        "\n",
        "    return precision, recall, fscore\n",
        "\n",
        "def main():\n",
        "    ground_truth = input(\"Enter ground truth string: \").strip()\n",
        "    predicted = input(\"Enter predicted string: \").strip()\n",
        "\n",
        "    precision, recall, fscore = char_precision_recall_fscore(ground_truth, predicted)\n",
        "\n",
        "    print(\"Precision:\", precision)\n",
        "    print(\"Recall:\", recall)\n",
        "    print(\"F-score:\", fscore)\n",
        "\n",
        "if __name__ == \"__main__\":\n",
        "    main()\n"
      ],
      "metadata": {
        "colab": {
          "base_uri": "https://localhost:8080/"
        },
        "id": "aWukLUWXqbfr",
        "outputId": "f0dbe877-9e4f-4d7d-a849-d4e4ce5530ac"
      },
      "execution_count": null,
      "outputs": [
        {
          "output_type": "stream",
          "name": "stdout",
          "text": [
            "Enter ground truth string: Bedienungsanleitung Die Maschine darf nur mit geeigneten Vorrichtungen, die den geltenden Vorschriften zur Arbeitssicherhelt entsprechen, angehoben werden. Lockere oder drehbare Telle müssen vor dem Anheben sicher befestigt werden. Der Aufenthalt im Gefahrenbereich unter einer angehobenen Last ist strengstens verboten. Beschleunigungs- und Bremsvorgänge belm Heben müssen Innerhalb sicherer Grenzen erfolgen. Bel Arbeiten unter angehobener Ausrüstung oder in der Nähe von Hebevorrichtungen ist ein Schutzheim zu tragen. Die Einheit ist für die Verwendung Innerhalb von Gebäuden ausgelegt. Wenn die Einheit Im Frelen aufgestellt wird, müssen spezielle Vorkehrungen getroffen werden. Bel Bedarf an den Lieferanten wenden. Für den Fall, dass das Gerät ein Kompressor ist, muss der Standort der Maschine so gewählt werden, dass die Umgebungsluft möglichst kühl und sauber ist. Gegebenenfalls einen Ansaugkanal Installieren. Den Lufteinlass nicht blockieren. Die Aufnahme von Feuchtigkeit mit der Ansaugluft ist so welt wie möglich zu minimieren. Vor dem Anschluss der Rohrleitungen alle Blindflansche, Stopfen, Kappen und Trockenmittelbeutel entfernen. Luftschläuche der korrekten Größe sind dem Betriebsdruck entsprechend zu wählen. Keine durchgescheuerten, beschädigten oder abgenutzten Schläuche verwenden. Vertellerrohre und -verbindungen der korrekten Größe sind dem Betriebsdruck entsprechend zu wählen. Für den Fall, dass das Gerät ein Kompressor ist, darf die Ansaugluft keine entflammbaren Rauchgase, Dämpfe oder Partikel, wie z. B. Lösungsmittel, enthalten, die sich innerhalb des Geräts entzünden oder explodieren können. Für den Fall, dass das Gerät ein Kompressor ist, ist der Lufteinlass so anzuordnen, dass locker sitzende Kleidung von Personen nicht angesaugt werden kann. Es muss sichergestellt werden, dass sich das Auslassrohr des Kompressors bel Wärme zum Nachkühler oder zum Luftnetz ausdehnen kann und dass es nicht an oder in der Nähe von brennbarem Material liegt. Auf das Luftauslassventil darf keine äußere Kraft einwirken; das angeschlossene Rohr muss belastungsfrei sein. Wenn eine Femsteuerung Installiert ist, muss an der Maschine ein deutlich sichtbares Schild mit der folgenden Aufschrift angebracht werden: ! GEFAHR Diese Maschine Ist ferngesteuert und kann ohne Vorwarnung anlaufen. Das Bedienungspersonal muss sicherstellen, dass die Maschine gestoppt und drucklos ist und der elektrische Trennschutzschalter geöffnet, verriegelt und mit einer temporären Warnung versehen ist, bevor jegliche Wartungs- oder Reparaturarbeiten durchgeführt werden können. Belm Ein- und Ausschalten ferngesteuerter Maschinen ist durch geeignete Vorsichtsmaßnahmen sicherzustellen, dass zu diesem Zeitpunkt keine Kontrollen oder Arbeiten an der Maschine durchgeführt werden. Dazu Ist ein entsprechender Hinweis an der Starteinrichtung anzubringen. Luftgekühite Maschinen sind so zu installieren, dass eine ausreichende Kühlluftzufuhr gewährleistet ist und die Auslassluft nicht zum Kompressorlufteinlass oder zum Kühllufteinlass zurückströmt. Die elektrischen Verbindungen müssen den geltenden Vorschriften entsprechen. Die Maschinen müssen geerdet und durch Sicherungen in allen Phasen gegen Kurzschlüsse abgesichert sein. In unmittelbarer Nähe des Kompressors muss ein arretierbarer Trennschutzschalter Installiert werden.\n",
            "Enter predicted string: Anweisungsbuch • Falls das Gerät ein Kompressor ist, legen Sie die Maschine an, wo die Umgebungsluft so kühl und sauber wie möglich ist. Falls erforderlich, Installieren Sie einen Absaugkanal. Behindem Sie nicht den Lufteinlass. Es muss darauf geachtet werden, dass der Eintritt von Feuchtigkeit in die Zuluft minimiert wird. • Vor dem Verbinden der Rohre müssen alle Austastflansche, Stopfen, Kappen und Trockenkoffer entfernt werden. • Luftschläuche müssen von der richtigen Größe sein und für den Arbeitsdruck geeignet sein. Verwenden Sie keine ausgefransten, beschädigten oder verschilssenen Schläuche. Vertellungsrohre und - verbindungen müssen von der richtigen Größe sein und für den Arbeitsdruck geeignet sein. • Falls es sich bel der Vorrichtung um einen Kompressor handelt, muss die angesaugte Luftfrel von brennbaren Dämpfen, Dämpfen und Partikeln sein, zum Beispiel von Lackiosemitteln, die zu einem Inneren Brand oder einer Explosion führen können. Falls das Gerät ein Kompressor ist, ordnen Sie die Luftzufuhr so an, dass lose Kleidung, die von Menschen getragen wird, nicht eingezeichnet werden kann. • Stellen Sie sicher, dass das Abflussrohr vom Kompressor zum Nachkühler oder zum Luftnetz frel ist, unter Hitze zu expandieren, und dass es nicht mit brennbaren Materialien In Kontakt kommt oder in der Nähe ist. Auf das Luftauslaßventil kann keine äußere Kraft ausgeübt werden; das angeschlossene Rohr muß frel von Dehnung sein. • Wenn die Femsteuerung Installiert ist, muss die Maschine ein klares Zeichen setzen: GEFAHR ! Diese Maschine Ist ferngesteuert und kann ohne Vorwarnung starten. Der Bediener muss sicherstellen, dass die Maschine gestoppt und entspannt wird und dass der elektrische Trennschalter geöffnet, verriegelt und mit einer temporären Warnung vor Wartungsarbeiten oder Reparaturen versehen ist. Als weiterer Schutz müssen Personen, die ferngesteuerte Maschinen ein-oder ausschalten, angemessene Vorkehrungen treffen, um sicherzustellen, dass keine Überprüfung oder Arbelt an der Maschine erfolgt. Zu diesem Zweck ist an der Startausrüstung eine geeignete Bekanntmachung anzubringen. Luftgekühlte Maschinen müssen so Installiert werden, dass ein ausreichender Kühlluftstrom zur Verfügung steht und die verbrauchten Luft nicht zum Verdichterlufteinlass oder Kühllufteinlass rezirkullert. • Die elektrischen Anschlüsse müssen den entsprechenden Codes entsprechen. Die Maschinen müssen durch Sicherungen in allen Phasen geerdet und vor Kurzschlüssen geschützt werden. In der Nähe des Kompressors muss ein abschließbarer Leistungsschalter eingebaut werden. • Bel Maschinen mit automatischem Start-Stopp-System oder bel Aktivierung der automatischen Neustartfunktion nach dem Spannungsausfall muss in der Nähe der Instrumententafel ein Schild mit der Angabe \"Diese Maschine kann ohne Wamung starten angebracht werden. • In mehreren Verdichtersystemen müssen manuelle Ventile Installiert werden, um Jeden Kompressor zu Isolieren. Rückschlagventile (Rückschlagventile) dürfen nicht zum Isolieren von Drucksystemen verwendet werden. Entfernen Sie die Sicherheitseinrichtungen , die Schutzeinrichtungen oder die Isolierung, die auf der Maschine angebracht sind, nicht aus oder manipulieren Sie sie. Jedes außerhalb der Maschine Installierte Druckgefaß oder Zusatzgerät, um Luft über dem Atmosphärendruck zu halten, muss bel Bedarf durch eine Druckentlastungseinrichtung oder -einrichtungen geschützt werden.. Rohrleitungen oder andere Telle mit einer Temperatur von über 70 C (158°F), die Im Normalbetrieb versehentlich von Personal berührt werden können, müssen bewacht oder Isollert sein. Andere Hochtemperatur-Rohrleitungen müssen deutlich gekennzeichnet sein. • Wenn der Boden nicht oder variabel genelgt sein kann, wenden Sie sich an den Hersteller. . Wenn das Gerät ein Trockner ist und kein freies Löschsystem im Luftnetz in der Nähe des Trockners vorhanden ist, müssen Sicherheitsventile in den Behältern des Trockners Installiert werden. • Bel einer Installation mit mehreren Kompressoren muss die Auslassleitung in einer solchen Welse Installiert werden dass Kondensat nicht wieder in den Verdichter zurückfließen kann. Siehe Abschnitt Installationsvorschlag.\n",
            "Precision: 0.9926120114394662\n",
            "Recall: 0.9995200383969283\n",
            "F-score: 0.9960540475905776\n"
          ]
        }
      ]
    }
  ]
}